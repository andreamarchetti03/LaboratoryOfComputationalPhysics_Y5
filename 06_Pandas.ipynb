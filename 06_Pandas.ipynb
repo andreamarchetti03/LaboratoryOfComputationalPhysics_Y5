{
 "cells": [
  {
   "cell_type": "markdown",
   "metadata": {},
   "source": [
    "# Pandas\n",
    "\n",
    "The `numpy` module is excellent for numerical computations, but to handle missing data or arrays with mixed types takes more work. The `pandas` module is currently the most widely used tool for data manipulation, providing high-performance, easy-to-use data structures and advanced data analysis tools.\n",
    "\n",
    "In particular `pandas` features:\n",
    "\n",
    "* A fast and efficient \"DataFrame\" object for data manipulation with integrated indexing;\n",
    "* Tools for reading and writing data between in-memory data structures and different formats (CSV, Excel, SQL, HDF5);\n",
    "* Intelligent data alignment and integrated handling of missing data;\n",
    "* Intelligent label-based slicing, fancy indexing, and subsetting of large data sets;\n",
    "* Aggregating or transforming data with a powerful \"group-by\" engine; \n",
    "* High performance merging and joining of data sets;\n",
    "* Hierarchical axis indexing provides an intuitive way of working with high-dimensional data in a lower-dimensional data structure;\n",
    "* Time series-functionalities;\n",
    "* Highly optimized for performance, with critical code paths written in Cython or C.\n"
   ]
  },
  {
   "cell_type": "code",
   "execution_count": 4,
   "metadata": {},
   "outputs": [],
   "source": [
    "import pandas as pd\n",
    "import numpy as np"
   ]
  },
  {
   "cell_type": "markdown",
   "metadata": {},
   "source": [
    "## Series\n",
    "\n",
    "Series are completely equivalent to 1D array but with axis labels and the possibility to store heterogeneous elements. Of paramount importance are the time-series, used to define time evolutions of a phenomenon. \n"
   ]
  },
  {
   "cell_type": "code",
   "execution_count": null,
   "metadata": {},
   "outputs": [],
   "source": [
    "from string import ascii_lowercase as letters\n",
    "\n",
    "# Creating a series, accessing indexes, values and values by their index \n",
    "xs = pd.Series(np.arange(10)*0.5, index=tuple(letters[:10]))\n",
    "print (\"xs:\", xs,'\\n')\n",
    "print (\"xs indexes:\",xs.index,'\\n')\n",
    "# Values of the Series are actually a numpy array\n",
    "print (\"xs values:\", xs.values, type(xs.values),'\\n')\n",
    "print (xs['f'], xs.f, xs.h, '\\n')\n",
    "print (xs[['d', 'f', 'h']], '\\n')\n",
    "print (type(xs[['d', 'f', 'h']]), '\\n')"
   ]
  },
  {
   "cell_type": "code",
   "execution_count": null,
   "metadata": {},
   "outputs": [],
   "source": [
    "# Extracting elements and operations: same as numpy array\n",
    "print (xs[:3],'\\n')\n",
    "print (xs[7:], '\\n')\n",
    "print (xs[::3], '\\n')\n",
    "print (xs[xs>3], '\\n')\n",
    "print (np.exp(xs), '\\n')\n",
    "print (np.mean(xs), np.std(xs), '\\n')"
   ]
  },
  {
   "cell_type": "code",
   "execution_count": null,
   "metadata": {},
   "outputs": [],
   "source": [
    "# Series can be created from python dictionary too.\n",
    "# Not that the elements can be whatever!\n",
    "d = {'b' : 1, 'a' : 'cat', 'c' : [2,3]}\n",
    "pd.Series(d)\n",
    "\n"
   ]
  },
  {
   "cell_type": "markdown",
   "metadata": {},
   "source": [
    "A key difference between Series and ndarray is that operations between Series automatically align the data based on label. Thus, you can write computations without considering whether the Series involved have the same labels."
   ]
  },
  {
   "cell_type": "code",
   "execution_count": null,
   "metadata": {},
   "outputs": [],
   "source": [
    "s = pd.Series(np.random.randn(5), index=tuple(letters[:5]))\n",
    "print(s)\n",
    "s = s[1:] + s[:-1]\n",
    "print(s)"
   ]
  },
  {
   "cell_type": "markdown",
   "metadata": {},
   "source": [
    "### Time series\n",
    "\n",
    "Time series are very often used to profile the behaviour of a quantity as a function of time. Pandas has a special index for that, `DatetimeIndex`, that can be created e.g. with the function `pd.data_range()`"
   ]
  },
  {
   "cell_type": "code",
   "execution_count": null,
   "metadata": {},
   "outputs": [],
   "source": [
    "# to define a date, the datetime module is very useful\n",
    "import datetime as dt\n",
    "date = dt.date.today()\n",
    "print(date)\n",
    "\n",
    "date = dt.datetime(2022,11,30,10,45,10,15)\n",
    "print (date)\n",
    "\n",
    "# otherwise, several notations are interpreted too\n",
    "date = 'Nov 30 2022'\n",
    "# or alternatively\n",
    "date = '30/11/2022 10:45:00'\n",
    "print (date)\n",
    "\n",
    "days = pd.date_range(date, periods=7, freq='D')\n",
    "print (days)\n",
    "\n",
    "seconds = pd.date_range(date, periods=3600, freq='s')\n",
    "print (seconds)\n"
   ]
  },
  {
   "cell_type": "markdown",
   "metadata": {},
   "source": [
    "To learn more about the frequency strings, please see this [link](http://pandas.pydata.org/pandas-docs/stable/timeseries.html#offset-aliases)\n",
    "\n",
    "\n",
    "Timestamped data is the most basic type of time series data that associates values with points in time. For pandas objects it means using the points in time.\n",
    "\n",
    "functions like `pd.to_datetime` can be used, for instance, when reading information as string from a dataset.\n",
    "\n",
    "Timestamp is the pandas equivalent of python’s Datetime and is interchangeable with it in most cases. "
   ]
  },
  {
   "cell_type": "code",
   "execution_count": null,
   "metadata": {},
   "outputs": [],
   "source": [
    "tstamp = pd.Timestamp(dt.datetime(2020, 11, 9))\n",
    "\n",
    "# internally it counts the nanoseconds from January 1st 19\n",
    "tstamp = pd.Timestamp(dt.datetime(1970, 1, 1, 0, 0, 0, 1))\n",
    "print(tstamp.value)\n",
    "\n",
    "# when creating a timestamp the format can be explicitly passed\n",
    "ts = pd.to_datetime('2010/11/12', format='%Y/%m/%d')\n",
    "print (type(ts))\n",
    "print (ts.value)\n",
    "ts = pd.to_datetime('12-11-2010 00:00', format='%d-%m-%Y %H:%M')\n",
    "print (ts)\n",
    "print (ts.value)\n",
    "\n"
   ]
  },
  {
   "cell_type": "markdown",
   "metadata": {},
   "source": [
    "A standard series can be created and (range of) elements can be used as indexes"
   ]
  },
  {
   "cell_type": "code",
   "execution_count": null,
   "metadata": {
    "scrolled": true
   },
   "outputs": [],
   "source": [
    "tseries = pd.Series(np.random.normal(10, 1, len(days)), index=days)\n",
    "# Extracting elements\n",
    "print (tseries[0:4], '\\n')\n",
    "print (tseries['2022-11-30':'2022-12-01'], '\\n') # Note - includes end time\n"
   ]
  },
  {
   "cell_type": "markdown",
   "metadata": {},
   "source": [
    "`pd.to_datetime` can also be used to create a `DatetimeIndex`:"
   ]
  },
  {
   "cell_type": "code",
   "execution_count": null,
   "metadata": {},
   "outputs": [],
   "source": [
    "pd.to_datetime([1, 2, 3, 4], unit='D', origin=pd.Timestamp('1980-02-03'))"
   ]
  },
  {
   "cell_type": "markdown",
   "metadata": {},
   "source": [
    "## DataFrame\n",
    "\n",
    "A pandas DataFrame is like a simple tabular spreadsheet. For future reference (or for people already familiar with R), a pandas DataFrame is very similar to the R DataFrame.\n",
    "\n",
    "Each column in a DataFrame is a Series object.\n",
    "\n",
    "The element can be whatever, missing data are dealt with too (as NaN)"
   ]
  },
  {
   "cell_type": "markdown",
   "metadata": {},
   "source": [
    "### DataFrame creation\n",
    "\n",
    "A DataFrame can be created implicitly, with, e.g., a DatatimeIndex object as index:"
   ]
  },
  {
   "cell_type": "code",
   "execution_count": 5,
   "metadata": {},
   "outputs": [
    {
     "data": {
      "text/html": [
       "<div>\n",
       "<style scoped>\n",
       "    .dataframe tbody tr th:only-of-type {\n",
       "        vertical-align: middle;\n",
       "    }\n",
       "\n",
       "    .dataframe tbody tr th {\n",
       "        vertical-align: top;\n",
       "    }\n",
       "\n",
       "    .dataframe thead th {\n",
       "        text-align: right;\n",
       "    }\n",
       "</style>\n",
       "<table border=\"1\" class=\"dataframe\">\n",
       "  <thead>\n",
       "    <tr style=\"text-align: right;\">\n",
       "      <th></th>\n",
       "      <th>A</th>\n",
       "      <th>B</th>\n",
       "      <th>C</th>\n",
       "      <th>D</th>\n",
       "    </tr>\n",
       "  </thead>\n",
       "  <tbody>\n",
       "    <tr>\n",
       "      <th>2022-11-30 10:45:00</th>\n",
       "      <td>0.651811</td>\n",
       "      <td>0.676088</td>\n",
       "      <td>-0.696847</td>\n",
       "      <td>-0.137052</td>\n",
       "    </tr>\n",
       "    <tr>\n",
       "      <th>2022-11-30 11:45:00</th>\n",
       "      <td>-0.914051</td>\n",
       "      <td>-0.354280</td>\n",
       "      <td>0.963879</td>\n",
       "      <td>-0.000521</td>\n",
       "    </tr>\n",
       "    <tr>\n",
       "      <th>2022-11-30 12:45:00</th>\n",
       "      <td>-0.579611</td>\n",
       "      <td>-0.368374</td>\n",
       "      <td>0.110235</td>\n",
       "      <td>0.106241</td>\n",
       "    </tr>\n",
       "    <tr>\n",
       "      <th>2022-11-30 13:45:00</th>\n",
       "      <td>0.160317</td>\n",
       "      <td>0.943957</td>\n",
       "      <td>-2.131690</td>\n",
       "      <td>-0.985294</td>\n",
       "    </tr>\n",
       "    <tr>\n",
       "      <th>2022-11-30 14:45:00</th>\n",
       "      <td>0.722298</td>\n",
       "      <td>-1.241749</td>\n",
       "      <td>0.539548</td>\n",
       "      <td>0.294308</td>\n",
       "    </tr>\n",
       "    <tr>\n",
       "      <th>2022-11-30 15:45:00</th>\n",
       "      <td>0.125407</td>\n",
       "      <td>0.273689</td>\n",
       "      <td>0.469319</td>\n",
       "      <td>-0.269049</td>\n",
       "    </tr>\n",
       "    <tr>\n",
       "      <th>2022-11-30 16:45:00</th>\n",
       "      <td>-0.695347</td>\n",
       "      <td>-1.012851</td>\n",
       "      <td>1.347443</td>\n",
       "      <td>0.535333</td>\n",
       "    </tr>\n",
       "    <tr>\n",
       "      <th>2022-11-30 17:45:00</th>\n",
       "      <td>-1.335070</td>\n",
       "      <td>0.230078</td>\n",
       "      <td>-0.620998</td>\n",
       "      <td>-1.461976</td>\n",
       "    </tr>\n",
       "    <tr>\n",
       "      <th>2022-11-30 18:45:00</th>\n",
       "      <td>-0.004254</td>\n",
       "      <td>0.450756</td>\n",
       "      <td>-1.207275</td>\n",
       "      <td>-0.335497</td>\n",
       "    </tr>\n",
       "    <tr>\n",
       "      <th>2022-11-30 19:45:00</th>\n",
       "      <td>0.353063</td>\n",
       "      <td>1.274526</td>\n",
       "      <td>-0.032613</td>\n",
       "      <td>-0.685857</td>\n",
       "    </tr>\n",
       "  </tbody>\n",
       "</table>\n",
       "</div>"
      ],
      "text/plain": [
       "                            A         B         C         D\n",
       "2022-11-30 10:45:00  0.651811  0.676088 -0.696847 -0.137052\n",
       "2022-11-30 11:45:00 -0.914051 -0.354280  0.963879 -0.000521\n",
       "2022-11-30 12:45:00 -0.579611 -0.368374  0.110235  0.106241\n",
       "2022-11-30 13:45:00  0.160317  0.943957 -2.131690 -0.985294\n",
       "2022-11-30 14:45:00  0.722298 -1.241749  0.539548  0.294308\n",
       "2022-11-30 15:45:00  0.125407  0.273689  0.469319 -0.269049\n",
       "2022-11-30 16:45:00 -0.695347 -1.012851  1.347443  0.535333\n",
       "2022-11-30 17:45:00 -1.335070  0.230078 -0.620998 -1.461976\n",
       "2022-11-30 18:45:00 -0.004254  0.450756 -1.207275 -0.335497\n",
       "2022-11-30 19:45:00  0.353063  1.274526 -0.032613 -0.685857"
      ]
     },
     "execution_count": 5,
     "metadata": {},
     "output_type": "execute_result"
    }
   ],
   "source": [
    "entries=10\n",
    "dates=pd.date_range('11/30/2022 10:45:00',freq='h', periods=entries)\n",
    "df = pd.DataFrame(np.random.randn(entries,4), index=dates, columns=['A','B','C','D'])\n",
    "df\n"
   ]
  },
  {
   "cell_type": "markdown",
   "metadata": {},
   "source": [
    "or by means of a dictionary:\n"
   ]
  },
  {
   "cell_type": "code",
   "execution_count": 1,
   "metadata": {},
   "outputs": [
    {
     "ename": "NameError",
     "evalue": "name 'pd' is not defined",
     "output_type": "error",
     "traceback": [
      "\u001b[0;31m---------------------------------------------------------------------------\u001b[0m",
      "\u001b[0;31mNameError\u001b[0m                                 Traceback (most recent call last)",
      "Cell \u001b[0;32mIn [1], line 1\u001b[0m\n\u001b[0;32m----> 1\u001b[0m df2 \u001b[38;5;241m=\u001b[39m \u001b[43mpd\u001b[49m\u001b[38;5;241m.\u001b[39mDataFrame(\n\u001b[1;32m      2\u001b[0m     { \u001b[38;5;124m'\u001b[39m\u001b[38;5;124mA\u001b[39m\u001b[38;5;124m'\u001b[39m : \u001b[38;5;241m1.\u001b[39m,\n\u001b[1;32m      3\u001b[0m       \u001b[38;5;124m'\u001b[39m\u001b[38;5;124mB\u001b[39m\u001b[38;5;124m'\u001b[39m : pd\u001b[38;5;241m.\u001b[39mTimestamp(\u001b[38;5;124m'\u001b[39m\u001b[38;5;124m20130102\u001b[39m\u001b[38;5;124m'\u001b[39m),\n\u001b[1;32m      4\u001b[0m       \u001b[38;5;124m'\u001b[39m\u001b[38;5;124mC\u001b[39m\u001b[38;5;124m'\u001b[39m : pd\u001b[38;5;241m.\u001b[39mSeries(\u001b[38;5;241m1\u001b[39m,index\u001b[38;5;241m=\u001b[39m\u001b[38;5;28mrange\u001b[39m(\u001b[38;5;241m4\u001b[39m),dtype\u001b[38;5;241m=\u001b[39m\u001b[38;5;124m'\u001b[39m\u001b[38;5;124mfloat32\u001b[39m\u001b[38;5;124m'\u001b[39m),\n\u001b[1;32m      5\u001b[0m       \u001b[38;5;124m'\u001b[39m\u001b[38;5;124mD\u001b[39m\u001b[38;5;124m'\u001b[39m : np\u001b[38;5;241m.\u001b[39marange(\u001b[38;5;241m7\u001b[39m,\u001b[38;5;241m11\u001b[39m),\n\u001b[1;32m      6\u001b[0m       \u001b[38;5;124m'\u001b[39m\u001b[38;5;124mE\u001b[39m\u001b[38;5;124m'\u001b[39m : pd\u001b[38;5;241m.\u001b[39mCategorical([\u001b[38;5;124m\"\u001b[39m\u001b[38;5;124mtest\u001b[39m\u001b[38;5;124m\"\u001b[39m,\u001b[38;5;124m\"\u001b[39m\u001b[38;5;124mtrain\u001b[39m\u001b[38;5;124m\"\u001b[39m,\u001b[38;5;124m\"\u001b[39m\u001b[38;5;124mtest\u001b[39m\u001b[38;5;124m\"\u001b[39m,\u001b[38;5;124m\"\u001b[39m\u001b[38;5;124mtrain\u001b[39m\u001b[38;5;124m\"\u001b[39m]),\n\u001b[1;32m      7\u001b[0m     }\n\u001b[1;32m      8\u001b[0m     )\n\u001b[1;32m      9\u001b[0m df2\n",
      "\u001b[0;31mNameError\u001b[0m: name 'pd' is not defined"
     ]
    }
   ],
   "source": [
    "df2 = pd.DataFrame(\n",
    "    { 'A' : 1.,\n",
    "      'B' : pd.Timestamp('20130102'),\n",
    "      'C' : pd.Series(1,index=range(4),dtype='float32'),\n",
    "      'D' : np.arange(7,11),\n",
    "      'E' : pd.Categorical([\"test\",\"train\",\"test\",\"train\"]),\n",
    "    }\n",
    "    )\n",
    "df2\n",
    "\n",
    "# check what happens if D and E had different lenghts "
   ]
  },
  {
   "cell_type": "markdown",
   "metadata": {},
   "source": [
    "### Viewing Data"
   ]
  },
  {
   "cell_type": "code",
   "execution_count": null,
   "metadata": {},
   "outputs": [],
   "source": [
    "df.head(2)"
   ]
  },
  {
   "cell_type": "code",
   "execution_count": null,
   "metadata": {},
   "outputs": [],
   "source": []
  },
  {
   "cell_type": "code",
   "execution_count": null,
   "metadata": {},
   "outputs": [],
   "source": [
    "df.tail(4)"
   ]
  },
  {
   "cell_type": "code",
   "execution_count": null,
   "metadata": {},
   "outputs": [],
   "source": [
    "df.index"
   ]
  },
  {
   "cell_type": "code",
   "execution_count": null,
   "metadata": {},
   "outputs": [],
   "source": [
    "df.columns"
   ]
  },
  {
   "cell_type": "code",
   "execution_count": null,
   "metadata": {},
   "outputs": [],
   "source": [
    "df.values"
   ]
  },
  {
   "cell_type": "code",
   "execution_count": null,
   "metadata": {},
   "outputs": [],
   "source": [
    "df.describe()"
   ]
  },
  {
   "cell_type": "code",
   "execution_count": null,
   "metadata": {},
   "outputs": [],
   "source": [
    "df.T"
   ]
  },
  {
   "cell_type": "code",
   "execution_count": null,
   "metadata": {},
   "outputs": [],
   "source": [
    "df.sort_index(axis=0,ascending=True)"
   ]
  },
  {
   "cell_type": "code",
   "execution_count": null,
   "metadata": {},
   "outputs": [],
   "source": [
    "df.sort_values(by=\"C\")"
   ]
  },
  {
   "cell_type": "markdown",
   "metadata": {},
   "source": [
    "## Selection\n",
    "\n",
    "### Getting slices\n",
    "\n",
    "The following show how to get part of the DataFrame (i.e. not just the elements)"
   ]
  },
  {
   "cell_type": "code",
   "execution_count": 6,
   "metadata": {},
   "outputs": [
    {
     "name": "stdout",
     "output_type": "stream",
     "text": [
      "2022-11-30 10:45:00    0.651811\n",
      "2022-11-30 11:45:00   -0.914051\n",
      "2022-11-30 12:45:00   -0.579611\n",
      "2022-11-30 13:45:00    0.160317\n",
      "2022-11-30 14:45:00    0.722298\n",
      "2022-11-30 15:45:00    0.125407\n",
      "2022-11-30 16:45:00   -0.695347\n",
      "2022-11-30 17:45:00   -1.335070\n",
      "2022-11-30 18:45:00   -0.004254\n",
      "2022-11-30 19:45:00    0.353063\n",
      "Freq: H, Name: A, dtype: float64 \n",
      "\n",
      "2022-11-30 10:45:00    0.651811\n",
      "2022-11-30 11:45:00   -0.914051\n",
      "2022-11-30 12:45:00   -0.579611\n",
      "2022-11-30 13:45:00    0.160317\n",
      "2022-11-30 14:45:00    0.722298\n",
      "2022-11-30 15:45:00    0.125407\n",
      "2022-11-30 16:45:00   -0.695347\n",
      "2022-11-30 17:45:00   -1.335070\n",
      "2022-11-30 18:45:00   -0.004254\n",
      "2022-11-30 19:45:00    0.353063\n",
      "Freq: H, Name: A, dtype: float64\n"
     ]
    }
   ],
   "source": [
    "## standard and safe\n",
    "print (df['A'],'\\n')\n",
    "\n",
    "## equivalent but dangerous (imagine blank spaces in the name of the column..)\n",
    "print (df.A)"
   ]
  },
  {
   "cell_type": "code",
   "execution_count": 52,
   "metadata": {},
   "outputs": [
    {
     "name": "stdout",
     "output_type": "stream",
     "text": [
      "                            A         B         C  D         E  E prime  \\\n",
      "2022-11-30 10:45:00  0.000000  0.676088 -0.696847  5  1.000000        0   \n",
      "2022-11-30 11:45:00 -0.914051 -0.354280  0.963879  5  0.999962        2   \n",
      "2022-11-30 12:45:00 -0.579611 -0.368374  0.110235  5  0.999848        4   \n",
      "2022-11-30 13:45:00  0.160317  0.943957 -2.131690  5  0.999657        6   \n",
      "\n",
      "                       cosine  \n",
      "2022-11-30 10:45:00  1.000000  \n",
      "2022-11-30 11:45:00  0.999962  \n",
      "2022-11-30 12:45:00  0.999848  \n",
      "2022-11-30 13:45:00  0.999657  \n",
      "                            A         B         C  D         E  E prime  \\\n",
      "2022-11-30 10:45:00  0.000000  0.676088 -0.696847  5  1.000000        0   \n",
      "2022-11-30 11:45:00 -0.914051 -0.354280  0.963879  5  0.999962        2   \n",
      "2022-11-30 12:45:00 -0.579611 -0.368374  0.110235  5  0.999848        4   \n",
      "\n",
      "                       cosine  \n",
      "2022-11-30 10:45:00  1.000000  \n",
      "2022-11-30 11:45:00  0.999962  \n",
      "2022-11-30 12:45:00  0.999848  \n"
     ]
    }
   ],
   "source": [
    "# selecting rows by counting\n",
    "#print (df[0:3])\n",
    "print(df[df.index[0]: df.index[3]])\n",
    "\n",
    "# or by index\n",
    "print (df[\"2022-11-30 10:45:00\":\"2022-11-30 12:45:00\"])"
   ]
  },
  {
   "cell_type": "markdown",
   "metadata": {},
   "source": [
    "### Selection by label"
   ]
  },
  {
   "cell_type": "code",
   "execution_count": 10,
   "metadata": {},
   "outputs": [
    {
     "data": {
      "text/plain": [
       "A    0.651811\n",
       "B    0.676088\n",
       "C   -0.696847\n",
       "D   -0.137052\n",
       "Name: 2022-11-30 10:45:00, dtype: float64"
      ]
     },
     "execution_count": 10,
     "metadata": {},
     "output_type": "execute_result"
    }
   ],
   "source": [
    "# getting a cross section (part of the DataFrame) using a label\n",
    "df.loc['2022-11-30 10:45:00']"
   ]
  },
  {
   "cell_type": "code",
   "execution_count": 24,
   "metadata": {},
   "outputs": [
    {
     "data": {
      "text/html": [
       "<div>\n",
       "<style scoped>\n",
       "    .dataframe tbody tr th:only-of-type {\n",
       "        vertical-align: middle;\n",
       "    }\n",
       "\n",
       "    .dataframe tbody tr th {\n",
       "        vertical-align: top;\n",
       "    }\n",
       "\n",
       "    .dataframe thead th {\n",
       "        text-align: right;\n",
       "    }\n",
       "</style>\n",
       "<table border=\"1\" class=\"dataframe\">\n",
       "  <thead>\n",
       "    <tr style=\"text-align: right;\">\n",
       "      <th></th>\n",
       "      <th>A</th>\n",
       "      <th>B</th>\n",
       "      <th>C</th>\n",
       "      <th>D</th>\n",
       "    </tr>\n",
       "  </thead>\n",
       "  <tbody>\n",
       "    <tr>\n",
       "      <th>2022-11-30 11:45:00</th>\n",
       "      <td>-0.914051</td>\n",
       "      <td>-0.354280</td>\n",
       "      <td>0.963879</td>\n",
       "      <td>-0.000521</td>\n",
       "    </tr>\n",
       "    <tr>\n",
       "      <th>2022-11-30 12:45:00</th>\n",
       "      <td>-0.579611</td>\n",
       "      <td>-0.368374</td>\n",
       "      <td>0.110235</td>\n",
       "      <td>0.106241</td>\n",
       "    </tr>\n",
       "    <tr>\n",
       "      <th>2022-11-30 13:45:00</th>\n",
       "      <td>0.160317</td>\n",
       "      <td>0.943957</td>\n",
       "      <td>-2.131690</td>\n",
       "      <td>-0.985294</td>\n",
       "    </tr>\n",
       "  </tbody>\n",
       "</table>\n",
       "</div>"
      ],
      "text/plain": [
       "                            A         B         C         D\n",
       "2022-11-30 11:45:00 -0.914051 -0.354280  0.963879 -0.000521\n",
       "2022-11-30 12:45:00 -0.579611 -0.368374  0.110235  0.106241\n",
       "2022-11-30 13:45:00  0.160317  0.943957 -2.131690 -0.985294"
      ]
     },
     "execution_count": 24,
     "metadata": {},
     "output_type": "execute_result"
    }
   ],
   "source": [
    "# selecting on a multi-axis by label:\n",
    "df.loc[dates[1]:dates[3]]\n",
    "#df[dates[1]:dates[3]]\n",
    "#a=df.loc[:,['A','B']]"
   ]
  },
  {
   "cell_type": "code",
   "execution_count": null,
   "metadata": {},
   "outputs": [],
   "source": [
    "# showing label slicing, both endpoints are included:\n",
    "df.loc['2022-11-30 14:45:00':'2022-11-30 16:45:00',['A','B']]"
   ]
  },
  {
   "cell_type": "code",
   "execution_count": null,
   "metadata": {},
   "outputs": [],
   "source": [
    "# getting an individual element\n",
    "print (df.loc[dates[1],'A'])\n",
    "\n",
    "# equivalently\n",
    "print (df.at[dates[1],'A'])"
   ]
  },
  {
   "cell_type": "markdown",
   "metadata": {},
   "source": [
    "### Selecting by position"
   ]
  },
  {
   "cell_type": "code",
   "execution_count": 25,
   "metadata": {},
   "outputs": [
    {
     "name": "stdout",
     "output_type": "stream",
     "text": [
      "A    0.160317\n",
      "B    0.943957\n",
      "C   -2.131690\n",
      "D   -0.985294\n",
      "Name: 2022-11-30 13:45:00, dtype: float64 \n",
      "\n",
      "                            A         B\n",
      "2022-11-30 13:45:00  0.160317  0.943957\n",
      "2022-11-30 14:45:00  0.722298 -1.241749\n"
     ]
    }
   ],
   "source": [
    "# select via the position of the passed integers:\n",
    "print (df.iloc[3],'\\n')\n",
    "\n",
    "# notation similar to numpy/python\n",
    "print (df.iloc[3:5,0:2])"
   ]
  },
  {
   "cell_type": "code",
   "execution_count": 71,
   "metadata": {},
   "outputs": [
    {
     "ename": "IndexError",
     "evalue": "too many indices for array: array is 1-dimensional, but 2 were indexed",
     "output_type": "error",
     "traceback": [
      "\u001b[0;31m---------------------------------------------------------------------------\u001b[0m",
      "\u001b[0;31mIndexError\u001b[0m                                Traceback (most recent call last)",
      "Cell \u001b[0;32mIn [71], line 2\u001b[0m\n\u001b[1;32m      1\u001b[0m \u001b[38;5;66;03m# selecting raws 1,2 and 4 for columns 0 and 2\u001b[39;00m\n\u001b[0;32m----> 2\u001b[0m \u001b[38;5;28mprint\u001b[39m(\u001b[43mdf\u001b[49m\u001b[38;5;241;43m.\u001b[39;49m\u001b[43mindex\u001b[49m\u001b[43m[\u001b[49m\u001b[38;5;241;43m0\u001b[39;49m\u001b[43m,\u001b[49m\u001b[38;5;241;43m2\u001b[39;49m\u001b[43m]\u001b[49m)\n",
      "File \u001b[0;32m~/miniconda3/lib/python3.9/site-packages/pandas/core/indexes/base.py:5382\u001b[0m, in \u001b[0;36mIndex.__getitem__\u001b[0;34m(self, key)\u001b[0m\n\u001b[1;32m   5379\u001b[0m     \u001b[38;5;28;01melse\u001b[39;00m:\n\u001b[1;32m   5380\u001b[0m         key \u001b[38;5;241m=\u001b[39m np\u001b[38;5;241m.\u001b[39masarray(key, dtype\u001b[38;5;241m=\u001b[39m\u001b[38;5;28mbool\u001b[39m)\n\u001b[0;32m-> 5382\u001b[0m result \u001b[38;5;241m=\u001b[39m \u001b[43mgetitem\u001b[49m\u001b[43m(\u001b[49m\u001b[43mkey\u001b[49m\u001b[43m)\u001b[49m\n\u001b[1;32m   5383\u001b[0m \u001b[38;5;66;03m# Because we ruled out integer above, we always get an arraylike here\u001b[39;00m\n\u001b[1;32m   5384\u001b[0m \u001b[38;5;28;01mif\u001b[39;00m result\u001b[38;5;241m.\u001b[39mndim \u001b[38;5;241m>\u001b[39m \u001b[38;5;241m1\u001b[39m:\n",
      "File \u001b[0;32m~/miniconda3/lib/python3.9/site-packages/pandas/core/arrays/datetimelike.py:358\u001b[0m, in \u001b[0;36mDatetimeLikeArrayMixin.__getitem__\u001b[0;34m(self, key)\u001b[0m\n\u001b[1;32m    350\u001b[0m \u001b[38;5;124;03m\"\"\"\u001b[39;00m\n\u001b[1;32m    351\u001b[0m \u001b[38;5;124;03mThis getitem defers to the underlying array, which by-definition can\u001b[39;00m\n\u001b[1;32m    352\u001b[0m \u001b[38;5;124;03monly handle list-likes, slices, and integer scalars\u001b[39;00m\n\u001b[1;32m    353\u001b[0m \u001b[38;5;124;03m\"\"\"\u001b[39;00m\n\u001b[1;32m    354\u001b[0m \u001b[38;5;66;03m# Use cast as we know we will get back a DatetimeLikeArray or DTScalar,\u001b[39;00m\n\u001b[1;32m    355\u001b[0m \u001b[38;5;66;03m# but skip evaluating the Union at runtime for performance\u001b[39;00m\n\u001b[1;32m    356\u001b[0m \u001b[38;5;66;03m# (see https://github.com/pandas-dev/pandas/pull/44624)\u001b[39;00m\n\u001b[1;32m    357\u001b[0m result \u001b[38;5;241m=\u001b[39m cast(\n\u001b[0;32m--> 358\u001b[0m     \u001b[38;5;124m\"\u001b[39m\u001b[38;5;124mUnion[DatetimeLikeArrayT, DTScalarOrNaT]\u001b[39m\u001b[38;5;124m\"\u001b[39m, \u001b[38;5;28;43msuper\u001b[39;49m\u001b[43m(\u001b[49m\u001b[43m)\u001b[49m\u001b[38;5;241;43m.\u001b[39;49m\u001b[38;5;21;43m__getitem__\u001b[39;49m\u001b[43m(\u001b[49m\u001b[43mkey\u001b[49m\u001b[43m)\u001b[49m\n\u001b[1;32m    359\u001b[0m )\n\u001b[1;32m    360\u001b[0m \u001b[38;5;28;01mif\u001b[39;00m lib\u001b[38;5;241m.\u001b[39mis_scalar(result):\n\u001b[1;32m    361\u001b[0m     \u001b[38;5;28;01mreturn\u001b[39;00m result\n",
      "File \u001b[0;32m~/miniconda3/lib/python3.9/site-packages/pandas/core/arrays/_mixins.py:298\u001b[0m, in \u001b[0;36mNDArrayBackedExtensionArray.__getitem__\u001b[0;34m(self, key)\u001b[0m\n\u001b[1;32m    296\u001b[0m key \u001b[38;5;241m=\u001b[39m extract_array(key, extract_numpy\u001b[38;5;241m=\u001b[39m\u001b[38;5;28;01mTrue\u001b[39;00m)  \u001b[38;5;66;03m# type: ignore[assignment]\u001b[39;00m\n\u001b[1;32m    297\u001b[0m key \u001b[38;5;241m=\u001b[39m check_array_indexer(\u001b[38;5;28mself\u001b[39m, key)\n\u001b[0;32m--> 298\u001b[0m result \u001b[38;5;241m=\u001b[39m \u001b[38;5;28;43mself\u001b[39;49m\u001b[38;5;241;43m.\u001b[39;49m\u001b[43m_ndarray\u001b[49m\u001b[43m[\u001b[49m\u001b[43mkey\u001b[49m\u001b[43m]\u001b[49m\n\u001b[1;32m    299\u001b[0m \u001b[38;5;28;01mif\u001b[39;00m lib\u001b[38;5;241m.\u001b[39mis_scalar(result):\n\u001b[1;32m    300\u001b[0m     \u001b[38;5;28;01mreturn\u001b[39;00m \u001b[38;5;28mself\u001b[39m\u001b[38;5;241m.\u001b[39m_box_func(result)\n",
      "\u001b[0;31mIndexError\u001b[0m: too many indices for array: array is 1-dimensional, but 2 were indexed"
     ]
    }
   ],
   "source": [
    "# selecting raws 1,2 and 4 for columns 0 and 2\n",
    "df.zloc[[1,2,4],[0,2]]"
   ]
  },
  {
   "cell_type": "code",
   "execution_count": null,
   "metadata": {},
   "outputs": [],
   "source": [
    "# slicing rows explicitly\n",
    "print (df.iloc[1:3,:],'\\n')\n",
    "\n",
    "# slicing columns explicitly\n",
    "print (df.iloc[:,1:3])\n"
   ]
  },
  {
   "cell_type": "code",
   "execution_count": null,
   "metadata": {},
   "outputs": [],
   "source": [
    "# selecting an individual element by position\n",
    "df.iloc[1,1]\n",
    "df.iat[1,1]\n"
   ]
  },
  {
   "cell_type": "markdown",
   "metadata": {},
   "source": [
    "### Boolean index\n",
    "\n",
    "Very powerful way of filtering out data with certain features. Notation is very similar to numpy arrays."
   ]
  },
  {
   "cell_type": "code",
   "execution_count": null,
   "metadata": {},
   "outputs": [],
   "source": [
    "# Filter by a boolean condition on the values of a single column\n",
    "df[df['B'] > 0]"
   ]
  },
  {
   "cell_type": "code",
   "execution_count": 26,
   "metadata": {},
   "outputs": [
    {
     "data": {
      "text/html": [
       "<div>\n",
       "<style scoped>\n",
       "    .dataframe tbody tr th:only-of-type {\n",
       "        vertical-align: middle;\n",
       "    }\n",
       "\n",
       "    .dataframe tbody tr th {\n",
       "        vertical-align: top;\n",
       "    }\n",
       "\n",
       "    .dataframe thead th {\n",
       "        text-align: right;\n",
       "    }\n",
       "</style>\n",
       "<table border=\"1\" class=\"dataframe\">\n",
       "  <thead>\n",
       "    <tr style=\"text-align: right;\">\n",
       "      <th></th>\n",
       "      <th>A</th>\n",
       "      <th>B</th>\n",
       "      <th>C</th>\n",
       "      <th>D</th>\n",
       "    </tr>\n",
       "  </thead>\n",
       "  <tbody>\n",
       "    <tr>\n",
       "      <th>2022-11-30 10:45:00</th>\n",
       "      <td>0.651811</td>\n",
       "      <td>0.676088</td>\n",
       "      <td>NaN</td>\n",
       "      <td>NaN</td>\n",
       "    </tr>\n",
       "    <tr>\n",
       "      <th>2022-11-30 11:45:00</th>\n",
       "      <td>NaN</td>\n",
       "      <td>NaN</td>\n",
       "      <td>0.963879</td>\n",
       "      <td>NaN</td>\n",
       "    </tr>\n",
       "    <tr>\n",
       "      <th>2022-11-30 12:45:00</th>\n",
       "      <td>NaN</td>\n",
       "      <td>NaN</td>\n",
       "      <td>0.110235</td>\n",
       "      <td>0.106241</td>\n",
       "    </tr>\n",
       "    <tr>\n",
       "      <th>2022-11-30 13:45:00</th>\n",
       "      <td>0.160317</td>\n",
       "      <td>0.943957</td>\n",
       "      <td>NaN</td>\n",
       "      <td>NaN</td>\n",
       "    </tr>\n",
       "    <tr>\n",
       "      <th>2022-11-30 14:45:00</th>\n",
       "      <td>0.722298</td>\n",
       "      <td>NaN</td>\n",
       "      <td>0.539548</td>\n",
       "      <td>0.294308</td>\n",
       "    </tr>\n",
       "    <tr>\n",
       "      <th>2022-11-30 15:45:00</th>\n",
       "      <td>0.125407</td>\n",
       "      <td>0.273689</td>\n",
       "      <td>0.469319</td>\n",
       "      <td>NaN</td>\n",
       "    </tr>\n",
       "    <tr>\n",
       "      <th>2022-11-30 16:45:00</th>\n",
       "      <td>NaN</td>\n",
       "      <td>NaN</td>\n",
       "      <td>1.347443</td>\n",
       "      <td>0.535333</td>\n",
       "    </tr>\n",
       "    <tr>\n",
       "      <th>2022-11-30 17:45:00</th>\n",
       "      <td>NaN</td>\n",
       "      <td>0.230078</td>\n",
       "      <td>NaN</td>\n",
       "      <td>NaN</td>\n",
       "    </tr>\n",
       "    <tr>\n",
       "      <th>2022-11-30 18:45:00</th>\n",
       "      <td>NaN</td>\n",
       "      <td>0.450756</td>\n",
       "      <td>NaN</td>\n",
       "      <td>NaN</td>\n",
       "    </tr>\n",
       "    <tr>\n",
       "      <th>2022-11-30 19:45:00</th>\n",
       "      <td>0.353063</td>\n",
       "      <td>1.274526</td>\n",
       "      <td>NaN</td>\n",
       "      <td>NaN</td>\n",
       "    </tr>\n",
       "  </tbody>\n",
       "</table>\n",
       "</div>"
      ],
      "text/plain": [
       "                            A         B         C         D\n",
       "2022-11-30 10:45:00  0.651811  0.676088       NaN       NaN\n",
       "2022-11-30 11:45:00       NaN       NaN  0.963879       NaN\n",
       "2022-11-30 12:45:00       NaN       NaN  0.110235  0.106241\n",
       "2022-11-30 13:45:00  0.160317  0.943957       NaN       NaN\n",
       "2022-11-30 14:45:00  0.722298       NaN  0.539548  0.294308\n",
       "2022-11-30 15:45:00  0.125407  0.273689  0.469319       NaN\n",
       "2022-11-30 16:45:00       NaN       NaN  1.347443  0.535333\n",
       "2022-11-30 17:45:00       NaN  0.230078       NaN       NaN\n",
       "2022-11-30 18:45:00       NaN  0.450756       NaN       NaN\n",
       "2022-11-30 19:45:00  0.353063  1.274526       NaN       NaN"
      ]
     },
     "execution_count": 26,
     "metadata": {},
     "output_type": "execute_result"
    }
   ],
   "source": [
    "# Selecting on the basis of boolean conditions applied to the whole DataFrame\n",
    "df[df>0]\n",
    "\n",
    "# a DataFrame with the same shape is returned, with NaN's where condition is not met"
   ]
  },
  {
   "cell_type": "markdown",
   "metadata": {},
   "source": [
    "### Setting\n",
    "\n",
    "Combination of selection and setting of values"
   ]
  },
  {
   "cell_type": "code",
   "execution_count": 32,
   "metadata": {},
   "outputs": [
    {
     "data": {
      "text/html": [
       "<div>\n",
       "<style scoped>\n",
       "    .dataframe tbody tr th:only-of-type {\n",
       "        vertical-align: middle;\n",
       "    }\n",
       "\n",
       "    .dataframe tbody tr th {\n",
       "        vertical-align: top;\n",
       "    }\n",
       "\n",
       "    .dataframe thead th {\n",
       "        text-align: right;\n",
       "    }\n",
       "</style>\n",
       "<table border=\"1\" class=\"dataframe\">\n",
       "  <thead>\n",
       "    <tr style=\"text-align: right;\">\n",
       "      <th></th>\n",
       "      <th>A</th>\n",
       "      <th>B</th>\n",
       "      <th>C</th>\n",
       "      <th>D</th>\n",
       "      <th>E</th>\n",
       "      <th>E prime</th>\n",
       "    </tr>\n",
       "  </thead>\n",
       "  <tbody>\n",
       "    <tr>\n",
       "      <th>2022-11-30 10:45:00</th>\n",
       "      <td>0.000000</td>\n",
       "      <td>0.676088</td>\n",
       "      <td>-0.696847</td>\n",
       "      <td>5</td>\n",
       "      <td>0.0</td>\n",
       "      <td>0</td>\n",
       "    </tr>\n",
       "    <tr>\n",
       "      <th>2022-11-30 11:45:00</th>\n",
       "      <td>-0.914051</td>\n",
       "      <td>-0.354280</td>\n",
       "      <td>0.963879</td>\n",
       "      <td>5</td>\n",
       "      <td>0.5</td>\n",
       "      <td>2</td>\n",
       "    </tr>\n",
       "    <tr>\n",
       "      <th>2022-11-30 12:45:00</th>\n",
       "      <td>-0.579611</td>\n",
       "      <td>-0.368374</td>\n",
       "      <td>0.110235</td>\n",
       "      <td>5</td>\n",
       "      <td>1.0</td>\n",
       "      <td>4</td>\n",
       "    </tr>\n",
       "    <tr>\n",
       "      <th>2022-11-30 13:45:00</th>\n",
       "      <td>0.160317</td>\n",
       "      <td>0.943957</td>\n",
       "      <td>-2.131690</td>\n",
       "      <td>5</td>\n",
       "      <td>1.5</td>\n",
       "      <td>6</td>\n",
       "    </tr>\n",
       "    <tr>\n",
       "      <th>2022-11-30 14:45:00</th>\n",
       "      <td>0.722298</td>\n",
       "      <td>-1.241749</td>\n",
       "      <td>0.539548</td>\n",
       "      <td>5</td>\n",
       "      <td>2.0</td>\n",
       "      <td>8</td>\n",
       "    </tr>\n",
       "    <tr>\n",
       "      <th>2022-11-30 15:45:00</th>\n",
       "      <td>0.125407</td>\n",
       "      <td>0.273689</td>\n",
       "      <td>0.469319</td>\n",
       "      <td>5</td>\n",
       "      <td>2.5</td>\n",
       "      <td>10</td>\n",
       "    </tr>\n",
       "    <tr>\n",
       "      <th>2022-11-30 16:45:00</th>\n",
       "      <td>-0.695347</td>\n",
       "      <td>-1.012851</td>\n",
       "      <td>1.347443</td>\n",
       "      <td>5</td>\n",
       "      <td>3.0</td>\n",
       "      <td>12</td>\n",
       "    </tr>\n",
       "    <tr>\n",
       "      <th>2022-11-30 17:45:00</th>\n",
       "      <td>-1.335070</td>\n",
       "      <td>0.230078</td>\n",
       "      <td>-0.620998</td>\n",
       "      <td>5</td>\n",
       "      <td>3.5</td>\n",
       "      <td>14</td>\n",
       "    </tr>\n",
       "    <tr>\n",
       "      <th>2022-11-30 18:45:00</th>\n",
       "      <td>-0.004254</td>\n",
       "      <td>0.450756</td>\n",
       "      <td>-1.207275</td>\n",
       "      <td>5</td>\n",
       "      <td>4.0</td>\n",
       "      <td>16</td>\n",
       "    </tr>\n",
       "    <tr>\n",
       "      <th>2022-11-30 19:45:00</th>\n",
       "      <td>0.353063</td>\n",
       "      <td>1.274526</td>\n",
       "      <td>-0.032613</td>\n",
       "      <td>5</td>\n",
       "      <td>4.5</td>\n",
       "      <td>18</td>\n",
       "    </tr>\n",
       "  </tbody>\n",
       "</table>\n",
       "</div>"
      ],
      "text/plain": [
       "                            A         B         C  D    E  E prime\n",
       "2022-11-30 10:45:00  0.000000  0.676088 -0.696847  5  0.0        0\n",
       "2022-11-30 11:45:00 -0.914051 -0.354280  0.963879  5  0.5        2\n",
       "2022-11-30 12:45:00 -0.579611 -0.368374  0.110235  5  1.0        4\n",
       "2022-11-30 13:45:00  0.160317  0.943957 -2.131690  5  1.5        6\n",
       "2022-11-30 14:45:00  0.722298 -1.241749  0.539548  5  2.0        8\n",
       "2022-11-30 15:45:00  0.125407  0.273689  0.469319  5  2.5       10\n",
       "2022-11-30 16:45:00 -0.695347 -1.012851  1.347443  5  3.0       12\n",
       "2022-11-30 17:45:00 -1.335070  0.230078 -0.620998  5  3.5       14\n",
       "2022-11-30 18:45:00 -0.004254  0.450756 -1.207275  5  4.0       16\n",
       "2022-11-30 19:45:00  0.353063  1.274526 -0.032613  5  4.5       18"
      ]
     },
     "execution_count": 32,
     "metadata": {},
     "output_type": "execute_result"
    }
   ],
   "source": [
    "# setting values by label (same as by position)\n",
    "df.at[dates[0],'A'] = 0\n",
    "\n",
    "# setting and assigning a numpy array\n",
    "df.loc[:,'D'] = np.array([5] * len(df))\n",
    "\n",
    "# defining a brend new column\n",
    "df['E'] = np.arange(len(df))*0.5\n",
    "\n",
    "# defining a brend new column by means of a pd.Series: indexes must be the same!\n",
    "df['E prime'] = pd.Series(np.arange(len(df))*2, index=df.index)\n",
    "df"
   ]
  },
  {
   "cell_type": "code",
   "execution_count": 35,
   "metadata": {},
   "outputs": [
    {
     "data": {
      "text/html": [
       "<div>\n",
       "<style scoped>\n",
       "    .dataframe tbody tr th:only-of-type {\n",
       "        vertical-align: middle;\n",
       "    }\n",
       "\n",
       "    .dataframe tbody tr th {\n",
       "        vertical-align: top;\n",
       "    }\n",
       "\n",
       "    .dataframe thead th {\n",
       "        text-align: right;\n",
       "    }\n",
       "</style>\n",
       "<table border=\"1\" class=\"dataframe\">\n",
       "  <thead>\n",
       "    <tr style=\"text-align: right;\">\n",
       "      <th></th>\n",
       "      <th>A</th>\n",
       "      <th>B</th>\n",
       "      <th>C</th>\n",
       "      <th>D</th>\n",
       "      <th>E</th>\n",
       "      <th>E prime</th>\n",
       "      <th>cosine</th>\n",
       "    </tr>\n",
       "  </thead>\n",
       "  <tbody>\n",
       "    <tr>\n",
       "      <th>2022-11-30 10:45:00</th>\n",
       "      <td>0.000000</td>\n",
       "      <td>0.676088</td>\n",
       "      <td>-0.696847</td>\n",
       "      <td>5</td>\n",
       "      <td>1.000000</td>\n",
       "      <td>0</td>\n",
       "      <td>1.000000</td>\n",
       "    </tr>\n",
       "    <tr>\n",
       "      <th>2022-11-30 11:45:00</th>\n",
       "      <td>-0.914051</td>\n",
       "      <td>-0.354280</td>\n",
       "      <td>0.963879</td>\n",
       "      <td>5</td>\n",
       "      <td>0.999962</td>\n",
       "      <td>2</td>\n",
       "      <td>0.999962</td>\n",
       "    </tr>\n",
       "    <tr>\n",
       "      <th>2022-11-30 12:45:00</th>\n",
       "      <td>-0.579611</td>\n",
       "      <td>-0.368374</td>\n",
       "      <td>0.110235</td>\n",
       "      <td>5</td>\n",
       "      <td>0.999848</td>\n",
       "      <td>4</td>\n",
       "      <td>0.999848</td>\n",
       "    </tr>\n",
       "    <tr>\n",
       "      <th>2022-11-30 13:45:00</th>\n",
       "      <td>0.160317</td>\n",
       "      <td>0.943957</td>\n",
       "      <td>-2.131690</td>\n",
       "      <td>5</td>\n",
       "      <td>0.999657</td>\n",
       "      <td>6</td>\n",
       "      <td>0.999657</td>\n",
       "    </tr>\n",
       "    <tr>\n",
       "      <th>2022-11-30 14:45:00</th>\n",
       "      <td>0.722298</td>\n",
       "      <td>-1.241749</td>\n",
       "      <td>0.539548</td>\n",
       "      <td>5</td>\n",
       "      <td>0.999391</td>\n",
       "      <td>8</td>\n",
       "      <td>0.999391</td>\n",
       "    </tr>\n",
       "    <tr>\n",
       "      <th>2022-11-30 15:45:00</th>\n",
       "      <td>0.125407</td>\n",
       "      <td>0.273689</td>\n",
       "      <td>0.469319</td>\n",
       "      <td>5</td>\n",
       "      <td>0.999048</td>\n",
       "      <td>10</td>\n",
       "      <td>0.999048</td>\n",
       "    </tr>\n",
       "    <tr>\n",
       "      <th>2022-11-30 16:45:00</th>\n",
       "      <td>-0.695347</td>\n",
       "      <td>-1.012851</td>\n",
       "      <td>1.347443</td>\n",
       "      <td>5</td>\n",
       "      <td>0.998630</td>\n",
       "      <td>12</td>\n",
       "      <td>0.998630</td>\n",
       "    </tr>\n",
       "    <tr>\n",
       "      <th>2022-11-30 17:45:00</th>\n",
       "      <td>-1.335070</td>\n",
       "      <td>0.230078</td>\n",
       "      <td>-0.620998</td>\n",
       "      <td>5</td>\n",
       "      <td>0.998135</td>\n",
       "      <td>14</td>\n",
       "      <td>0.998135</td>\n",
       "    </tr>\n",
       "    <tr>\n",
       "      <th>2022-11-30 18:45:00</th>\n",
       "      <td>-0.004254</td>\n",
       "      <td>0.450756</td>\n",
       "      <td>-1.207275</td>\n",
       "      <td>5</td>\n",
       "      <td>0.997564</td>\n",
       "      <td>16</td>\n",
       "      <td>0.997564</td>\n",
       "    </tr>\n",
       "    <tr>\n",
       "      <th>2022-11-30 19:45:00</th>\n",
       "      <td>0.353063</td>\n",
       "      <td>1.274526</td>\n",
       "      <td>-0.032613</td>\n",
       "      <td>5</td>\n",
       "      <td>0.996917</td>\n",
       "      <td>18</td>\n",
       "      <td>0.996917</td>\n",
       "    </tr>\n",
       "  </tbody>\n",
       "</table>\n",
       "</div>"
      ],
      "text/plain": [
       "                            A         B         C  D         E  E prime  \\\n",
       "2022-11-30 10:45:00  0.000000  0.676088 -0.696847  5  1.000000        0   \n",
       "2022-11-30 11:45:00 -0.914051 -0.354280  0.963879  5  0.999962        2   \n",
       "2022-11-30 12:45:00 -0.579611 -0.368374  0.110235  5  0.999848        4   \n",
       "2022-11-30 13:45:00  0.160317  0.943957 -2.131690  5  0.999657        6   \n",
       "2022-11-30 14:45:00  0.722298 -1.241749  0.539548  5  0.999391        8   \n",
       "2022-11-30 15:45:00  0.125407  0.273689  0.469319  5  0.999048       10   \n",
       "2022-11-30 16:45:00 -0.695347 -1.012851  1.347443  5  0.998630       12   \n",
       "2022-11-30 17:45:00 -1.335070  0.230078 -0.620998  5  0.998135       14   \n",
       "2022-11-30 18:45:00 -0.004254  0.450756 -1.207275  5  0.997564       16   \n",
       "2022-11-30 19:45:00  0.353063  1.274526 -0.032613  5  0.996917       18   \n",
       "\n",
       "                       cosine  \n",
       "2022-11-30 10:45:00  1.000000  \n",
       "2022-11-30 11:45:00  0.999962  \n",
       "2022-11-30 12:45:00  0.999848  \n",
       "2022-11-30 13:45:00  0.999657  \n",
       "2022-11-30 14:45:00  0.999391  \n",
       "2022-11-30 15:45:00  0.999048  \n",
       "2022-11-30 16:45:00  0.998630  \n",
       "2022-11-30 17:45:00  0.998135  \n",
       "2022-11-30 18:45:00  0.997564  \n",
       "2022-11-30 19:45:00  0.996917  "
      ]
     },
     "execution_count": 35,
     "metadata": {},
     "output_type": "execute_result"
    }
   ],
   "source": [
    "def dcos(theta):\n",
    "    theta = theta*(np.pi/180)\n",
    "    return np.cos(theta)\n",
    " \n",
    "df['cosine'] = pd.Series(df[\"E\"].apply(dcos), index=df.index)\n",
    "df[\"E\"] = df[\"E\"].apply(dcos)\n",
    "df"
   ]
  },
  {
   "cell_type": "code",
   "execution_count": 36,
   "metadata": {},
   "outputs": [
    {
     "data": {
      "text/html": [
       "<div>\n",
       "<style scoped>\n",
       "    .dataframe tbody tr th:only-of-type {\n",
       "        vertical-align: middle;\n",
       "    }\n",
       "\n",
       "    .dataframe tbody tr th {\n",
       "        vertical-align: top;\n",
       "    }\n",
       "\n",
       "    .dataframe thead th {\n",
       "        text-align: right;\n",
       "    }\n",
       "</style>\n",
       "<table border=\"1\" class=\"dataframe\">\n",
       "  <thead>\n",
       "    <tr style=\"text-align: right;\">\n",
       "      <th></th>\n",
       "      <th>A</th>\n",
       "      <th>B</th>\n",
       "      <th>C</th>\n",
       "      <th>D</th>\n",
       "      <th>E</th>\n",
       "      <th>E prime</th>\n",
       "      <th>cosine</th>\n",
       "    </tr>\n",
       "  </thead>\n",
       "  <tbody>\n",
       "    <tr>\n",
       "      <th>2022-11-30 10:45:00</th>\n",
       "      <td>0.000000</td>\n",
       "      <td>-0.676088</td>\n",
       "      <td>-0.696847</td>\n",
       "      <td>-5</td>\n",
       "      <td>-1.000000</td>\n",
       "      <td>0</td>\n",
       "      <td>-1.000000</td>\n",
       "    </tr>\n",
       "    <tr>\n",
       "      <th>2022-11-30 11:45:00</th>\n",
       "      <td>-0.914051</td>\n",
       "      <td>-0.354280</td>\n",
       "      <td>-0.963879</td>\n",
       "      <td>-5</td>\n",
       "      <td>-0.999962</td>\n",
       "      <td>-2</td>\n",
       "      <td>-0.999962</td>\n",
       "    </tr>\n",
       "    <tr>\n",
       "      <th>2022-11-30 12:45:00</th>\n",
       "      <td>-0.579611</td>\n",
       "      <td>-0.368374</td>\n",
       "      <td>-0.110235</td>\n",
       "      <td>-5</td>\n",
       "      <td>-0.999848</td>\n",
       "      <td>-4</td>\n",
       "      <td>-0.999848</td>\n",
       "    </tr>\n",
       "    <tr>\n",
       "      <th>2022-11-30 13:45:00</th>\n",
       "      <td>-0.160317</td>\n",
       "      <td>-0.943957</td>\n",
       "      <td>-2.131690</td>\n",
       "      <td>-5</td>\n",
       "      <td>-0.999657</td>\n",
       "      <td>-6</td>\n",
       "      <td>-0.999657</td>\n",
       "    </tr>\n",
       "    <tr>\n",
       "      <th>2022-11-30 14:45:00</th>\n",
       "      <td>-0.722298</td>\n",
       "      <td>-1.241749</td>\n",
       "      <td>-0.539548</td>\n",
       "      <td>-5</td>\n",
       "      <td>-0.999391</td>\n",
       "      <td>-8</td>\n",
       "      <td>-0.999391</td>\n",
       "    </tr>\n",
       "    <tr>\n",
       "      <th>2022-11-30 15:45:00</th>\n",
       "      <td>-0.125407</td>\n",
       "      <td>-0.273689</td>\n",
       "      <td>-0.469319</td>\n",
       "      <td>-5</td>\n",
       "      <td>-0.999048</td>\n",
       "      <td>-10</td>\n",
       "      <td>-0.999048</td>\n",
       "    </tr>\n",
       "    <tr>\n",
       "      <th>2022-11-30 16:45:00</th>\n",
       "      <td>-0.695347</td>\n",
       "      <td>-1.012851</td>\n",
       "      <td>-1.347443</td>\n",
       "      <td>-5</td>\n",
       "      <td>-0.998630</td>\n",
       "      <td>-12</td>\n",
       "      <td>-0.998630</td>\n",
       "    </tr>\n",
       "    <tr>\n",
       "      <th>2022-11-30 17:45:00</th>\n",
       "      <td>-1.335070</td>\n",
       "      <td>-0.230078</td>\n",
       "      <td>-0.620998</td>\n",
       "      <td>-5</td>\n",
       "      <td>-0.998135</td>\n",
       "      <td>-14</td>\n",
       "      <td>-0.998135</td>\n",
       "    </tr>\n",
       "    <tr>\n",
       "      <th>2022-11-30 18:45:00</th>\n",
       "      <td>-0.004254</td>\n",
       "      <td>-0.450756</td>\n",
       "      <td>-1.207275</td>\n",
       "      <td>-5</td>\n",
       "      <td>-0.997564</td>\n",
       "      <td>-16</td>\n",
       "      <td>-0.997564</td>\n",
       "    </tr>\n",
       "    <tr>\n",
       "      <th>2022-11-30 19:45:00</th>\n",
       "      <td>-0.353063</td>\n",
       "      <td>-1.274526</td>\n",
       "      <td>-0.032613</td>\n",
       "      <td>-5</td>\n",
       "      <td>-0.996917</td>\n",
       "      <td>-18</td>\n",
       "      <td>-0.996917</td>\n",
       "    </tr>\n",
       "  </tbody>\n",
       "</table>\n",
       "</div>"
      ],
      "text/plain": [
       "                            A         B         C  D         E  E prime  \\\n",
       "2022-11-30 10:45:00  0.000000 -0.676088 -0.696847 -5 -1.000000        0   \n",
       "2022-11-30 11:45:00 -0.914051 -0.354280 -0.963879 -5 -0.999962       -2   \n",
       "2022-11-30 12:45:00 -0.579611 -0.368374 -0.110235 -5 -0.999848       -4   \n",
       "2022-11-30 13:45:00 -0.160317 -0.943957 -2.131690 -5 -0.999657       -6   \n",
       "2022-11-30 14:45:00 -0.722298 -1.241749 -0.539548 -5 -0.999391       -8   \n",
       "2022-11-30 15:45:00 -0.125407 -0.273689 -0.469319 -5 -0.999048      -10   \n",
       "2022-11-30 16:45:00 -0.695347 -1.012851 -1.347443 -5 -0.998630      -12   \n",
       "2022-11-30 17:45:00 -1.335070 -0.230078 -0.620998 -5 -0.998135      -14   \n",
       "2022-11-30 18:45:00 -0.004254 -0.450756 -1.207275 -5 -0.997564      -16   \n",
       "2022-11-30 19:45:00 -0.353063 -1.274526 -0.032613 -5 -0.996917      -18   \n",
       "\n",
       "                       cosine  \n",
       "2022-11-30 10:45:00 -1.000000  \n",
       "2022-11-30 11:45:00 -0.999962  \n",
       "2022-11-30 12:45:00 -0.999848  \n",
       "2022-11-30 13:45:00 -0.999657  \n",
       "2022-11-30 14:45:00 -0.999391  \n",
       "2022-11-30 15:45:00 -0.999048  \n",
       "2022-11-30 16:45:00 -0.998630  \n",
       "2022-11-30 17:45:00 -0.998135  \n",
       "2022-11-30 18:45:00 -0.997564  \n",
       "2022-11-30 19:45:00 -0.996917  "
      ]
     },
     "execution_count": 36,
     "metadata": {},
     "output_type": "execute_result"
    }
   ],
   "source": [
    "# another example of global setting\n",
    "df2=df.copy()\n",
    "\n",
    "df2[df2>0] = -df2\n",
    "df2"
   ]
  },
  {
   "cell_type": "code",
   "execution_count": 62,
   "metadata": {},
   "outputs": [
    {
     "ename": "TypeError",
     "evalue": "cannot do slice indexing on DatetimeIndex with these indexers [1] of type int",
     "output_type": "error",
     "traceback": [
      "\u001b[0;31m---------------------------------------------------------------------------\u001b[0m",
      "\u001b[0;31mTypeError\u001b[0m                                 Traceback (most recent call last)",
      "Cell \u001b[0;32mIn [62], line 1\u001b[0m\n\u001b[0;32m----> 1\u001b[0m \u001b[38;5;28mprint\u001b[39m(\u001b[43mdf\u001b[49m\u001b[38;5;241;43m.\u001b[39;49m\u001b[43mloc\u001b[49m\u001b[43m[\u001b[49m\u001b[38;5;241;43m1\u001b[39;49m\u001b[43m:\u001b[49m\u001b[38;5;241;43m2\u001b[39;49m\u001b[43m]\u001b[49m)\n\u001b[1;32m      2\u001b[0m df\n",
      "File \u001b[0;32m~/miniconda3/lib/python3.9/site-packages/pandas/core/indexing.py:1073\u001b[0m, in \u001b[0;36m_LocationIndexer.__getitem__\u001b[0;34m(self, key)\u001b[0m\n\u001b[1;32m   1070\u001b[0m axis \u001b[38;5;241m=\u001b[39m \u001b[38;5;28mself\u001b[39m\u001b[38;5;241m.\u001b[39maxis \u001b[38;5;129;01mor\u001b[39;00m \u001b[38;5;241m0\u001b[39m\n\u001b[1;32m   1072\u001b[0m maybe_callable \u001b[38;5;241m=\u001b[39m com\u001b[38;5;241m.\u001b[39mapply_if_callable(key, \u001b[38;5;28mself\u001b[39m\u001b[38;5;241m.\u001b[39mobj)\n\u001b[0;32m-> 1073\u001b[0m \u001b[38;5;28;01mreturn\u001b[39;00m \u001b[38;5;28;43mself\u001b[39;49m\u001b[38;5;241;43m.\u001b[39;49m\u001b[43m_getitem_axis\u001b[49m\u001b[43m(\u001b[49m\u001b[43mmaybe_callable\u001b[49m\u001b[43m,\u001b[49m\u001b[43m \u001b[49m\u001b[43maxis\u001b[49m\u001b[38;5;241;43m=\u001b[39;49m\u001b[43maxis\u001b[49m\u001b[43m)\u001b[49m\n",
      "File \u001b[0;32m~/miniconda3/lib/python3.9/site-packages/pandas/core/indexing.py:1290\u001b[0m, in \u001b[0;36m_LocIndexer._getitem_axis\u001b[0;34m(self, key, axis)\u001b[0m\n\u001b[1;32m   1288\u001b[0m \u001b[38;5;28;01mif\u001b[39;00m \u001b[38;5;28misinstance\u001b[39m(key, \u001b[38;5;28mslice\u001b[39m):\n\u001b[1;32m   1289\u001b[0m     \u001b[38;5;28mself\u001b[39m\u001b[38;5;241m.\u001b[39m_validate_key(key, axis)\n\u001b[0;32m-> 1290\u001b[0m     \u001b[38;5;28;01mreturn\u001b[39;00m \u001b[38;5;28;43mself\u001b[39;49m\u001b[38;5;241;43m.\u001b[39;49m\u001b[43m_get_slice_axis\u001b[49m\u001b[43m(\u001b[49m\u001b[43mkey\u001b[49m\u001b[43m,\u001b[49m\u001b[43m \u001b[49m\u001b[43maxis\u001b[49m\u001b[38;5;241;43m=\u001b[39;49m\u001b[43maxis\u001b[49m\u001b[43m)\u001b[49m\n\u001b[1;32m   1291\u001b[0m \u001b[38;5;28;01melif\u001b[39;00m com\u001b[38;5;241m.\u001b[39mis_bool_indexer(key):\n\u001b[1;32m   1292\u001b[0m     \u001b[38;5;28;01mreturn\u001b[39;00m \u001b[38;5;28mself\u001b[39m\u001b[38;5;241m.\u001b[39m_getbool_axis(key, axis\u001b[38;5;241m=\u001b[39maxis)\n",
      "File \u001b[0;32m~/miniconda3/lib/python3.9/site-packages/pandas/core/indexing.py:1324\u001b[0m, in \u001b[0;36m_LocIndexer._get_slice_axis\u001b[0;34m(self, slice_obj, axis)\u001b[0m\n\u001b[1;32m   1321\u001b[0m     \u001b[38;5;28;01mreturn\u001b[39;00m obj\u001b[38;5;241m.\u001b[39mcopy(deep\u001b[38;5;241m=\u001b[39m\u001b[38;5;28;01mFalse\u001b[39;00m)\n\u001b[1;32m   1323\u001b[0m labels \u001b[38;5;241m=\u001b[39m obj\u001b[38;5;241m.\u001b[39m_get_axis(axis)\n\u001b[0;32m-> 1324\u001b[0m indexer \u001b[38;5;241m=\u001b[39m \u001b[43mlabels\u001b[49m\u001b[38;5;241;43m.\u001b[39;49m\u001b[43mslice_indexer\u001b[49m\u001b[43m(\u001b[49m\u001b[43mslice_obj\u001b[49m\u001b[38;5;241;43m.\u001b[39;49m\u001b[43mstart\u001b[49m\u001b[43m,\u001b[49m\u001b[43m \u001b[49m\u001b[43mslice_obj\u001b[49m\u001b[38;5;241;43m.\u001b[39;49m\u001b[43mstop\u001b[49m\u001b[43m,\u001b[49m\u001b[43m \u001b[49m\u001b[43mslice_obj\u001b[49m\u001b[38;5;241;43m.\u001b[39;49m\u001b[43mstep\u001b[49m\u001b[43m)\u001b[49m\n\u001b[1;32m   1326\u001b[0m \u001b[38;5;28;01mif\u001b[39;00m \u001b[38;5;28misinstance\u001b[39m(indexer, \u001b[38;5;28mslice\u001b[39m):\n\u001b[1;32m   1327\u001b[0m     \u001b[38;5;28;01mreturn\u001b[39;00m \u001b[38;5;28mself\u001b[39m\u001b[38;5;241m.\u001b[39mobj\u001b[38;5;241m.\u001b[39m_slice(indexer, axis\u001b[38;5;241m=\u001b[39maxis)\n",
      "File \u001b[0;32m~/miniconda3/lib/python3.9/site-packages/pandas/core/indexes/datetimes.py:809\u001b[0m, in \u001b[0;36mDatetimeIndex.slice_indexer\u001b[0;34m(self, start, end, step, kind)\u001b[0m\n\u001b[1;32m    801\u001b[0m \u001b[38;5;66;03m# GH#33146 if start and end are combinations of str and None and Index is not\u001b[39;00m\n\u001b[1;32m    802\u001b[0m \u001b[38;5;66;03m# monotonic, we can not use Index.slice_indexer because it does not honor the\u001b[39;00m\n\u001b[1;32m    803\u001b[0m \u001b[38;5;66;03m# actual elements, is only searching for start and end\u001b[39;00m\n\u001b[1;32m    804\u001b[0m \u001b[38;5;28;01mif\u001b[39;00m (\n\u001b[1;32m    805\u001b[0m     check_str_or_none(start)\n\u001b[1;32m    806\u001b[0m     \u001b[38;5;129;01mor\u001b[39;00m check_str_or_none(end)\n\u001b[1;32m    807\u001b[0m     \u001b[38;5;129;01mor\u001b[39;00m \u001b[38;5;28mself\u001b[39m\u001b[38;5;241m.\u001b[39mis_monotonic_increasing\n\u001b[1;32m    808\u001b[0m ):\n\u001b[0;32m--> 809\u001b[0m     \u001b[38;5;28;01mreturn\u001b[39;00m \u001b[43mIndex\u001b[49m\u001b[38;5;241;43m.\u001b[39;49m\u001b[43mslice_indexer\u001b[49m\u001b[43m(\u001b[49m\u001b[38;5;28;43mself\u001b[39;49m\u001b[43m,\u001b[49m\u001b[43m \u001b[49m\u001b[43mstart\u001b[49m\u001b[43m,\u001b[49m\u001b[43m \u001b[49m\u001b[43mend\u001b[49m\u001b[43m,\u001b[49m\u001b[43m \u001b[49m\u001b[43mstep\u001b[49m\u001b[43m,\u001b[49m\u001b[43m \u001b[49m\u001b[43mkind\u001b[49m\u001b[38;5;241;43m=\u001b[39;49m\u001b[43mkind\u001b[49m\u001b[43m)\u001b[49m\n\u001b[1;32m    811\u001b[0m mask \u001b[38;5;241m=\u001b[39m np\u001b[38;5;241m.\u001b[39marray(\u001b[38;5;28;01mTrue\u001b[39;00m)\n\u001b[1;32m    812\u001b[0m deprecation_mask \u001b[38;5;241m=\u001b[39m np\u001b[38;5;241m.\u001b[39marray(\u001b[38;5;28;01mTrue\u001b[39;00m)\n",
      "File \u001b[0;32m~/miniconda3/lib/python3.9/site-packages/pandas/core/indexes/base.py:6602\u001b[0m, in \u001b[0;36mIndex.slice_indexer\u001b[0;34m(self, start, end, step, kind)\u001b[0m\n\u001b[1;32m   6559\u001b[0m \u001b[38;5;124;03m\"\"\"\u001b[39;00m\n\u001b[1;32m   6560\u001b[0m \u001b[38;5;124;03mCompute the slice indexer for input labels and step.\u001b[39;00m\n\u001b[1;32m   6561\u001b[0m \n\u001b[0;32m   (...)\u001b[0m\n\u001b[1;32m   6598\u001b[0m \u001b[38;5;124;03mslice(1, 3, None)\u001b[39;00m\n\u001b[1;32m   6599\u001b[0m \u001b[38;5;124;03m\"\"\"\u001b[39;00m\n\u001b[1;32m   6600\u001b[0m \u001b[38;5;28mself\u001b[39m\u001b[38;5;241m.\u001b[39m_deprecated_arg(kind, \u001b[38;5;124m\"\u001b[39m\u001b[38;5;124mkind\u001b[39m\u001b[38;5;124m\"\u001b[39m, \u001b[38;5;124m\"\u001b[39m\u001b[38;5;124mslice_indexer\u001b[39m\u001b[38;5;124m\"\u001b[39m)\n\u001b[0;32m-> 6602\u001b[0m start_slice, end_slice \u001b[38;5;241m=\u001b[39m \u001b[38;5;28;43mself\u001b[39;49m\u001b[38;5;241;43m.\u001b[39;49m\u001b[43mslice_locs\u001b[49m\u001b[43m(\u001b[49m\u001b[43mstart\u001b[49m\u001b[43m,\u001b[49m\u001b[43m \u001b[49m\u001b[43mend\u001b[49m\u001b[43m,\u001b[49m\u001b[43m \u001b[49m\u001b[43mstep\u001b[49m\u001b[38;5;241;43m=\u001b[39;49m\u001b[43mstep\u001b[49m\u001b[43m)\u001b[49m\n\u001b[1;32m   6604\u001b[0m \u001b[38;5;66;03m# return a slice\u001b[39;00m\n\u001b[1;32m   6605\u001b[0m \u001b[38;5;28;01mif\u001b[39;00m \u001b[38;5;129;01mnot\u001b[39;00m is_scalar(start_slice):\n",
      "File \u001b[0;32m~/miniconda3/lib/python3.9/site-packages/pandas/core/indexes/base.py:6810\u001b[0m, in \u001b[0;36mIndex.slice_locs\u001b[0;34m(self, start, end, step, kind)\u001b[0m\n\u001b[1;32m   6808\u001b[0m start_slice \u001b[38;5;241m=\u001b[39m \u001b[38;5;28;01mNone\u001b[39;00m\n\u001b[1;32m   6809\u001b[0m \u001b[38;5;28;01mif\u001b[39;00m start \u001b[38;5;129;01mis\u001b[39;00m \u001b[38;5;129;01mnot\u001b[39;00m \u001b[38;5;28;01mNone\u001b[39;00m:\n\u001b[0;32m-> 6810\u001b[0m     start_slice \u001b[38;5;241m=\u001b[39m \u001b[38;5;28;43mself\u001b[39;49m\u001b[38;5;241;43m.\u001b[39;49m\u001b[43mget_slice_bound\u001b[49m\u001b[43m(\u001b[49m\u001b[43mstart\u001b[49m\u001b[43m,\u001b[49m\u001b[43m \u001b[49m\u001b[38;5;124;43m\"\u001b[39;49m\u001b[38;5;124;43mleft\u001b[39;49m\u001b[38;5;124;43m\"\u001b[39;49m\u001b[43m)\u001b[49m\n\u001b[1;32m   6811\u001b[0m \u001b[38;5;28;01mif\u001b[39;00m start_slice \u001b[38;5;129;01mis\u001b[39;00m \u001b[38;5;28;01mNone\u001b[39;00m:\n\u001b[1;32m   6812\u001b[0m     start_slice \u001b[38;5;241m=\u001b[39m \u001b[38;5;241m0\u001b[39m\n",
      "File \u001b[0;32m~/miniconda3/lib/python3.9/site-packages/pandas/core/indexes/base.py:6719\u001b[0m, in \u001b[0;36mIndex.get_slice_bound\u001b[0;34m(self, label, side, kind)\u001b[0m\n\u001b[1;32m   6715\u001b[0m original_label \u001b[38;5;241m=\u001b[39m label\n\u001b[1;32m   6717\u001b[0m \u001b[38;5;66;03m# For datetime indices label may be a string that has to be converted\u001b[39;00m\n\u001b[1;32m   6718\u001b[0m \u001b[38;5;66;03m# to datetime boundary according to its resolution.\u001b[39;00m\n\u001b[0;32m-> 6719\u001b[0m label \u001b[38;5;241m=\u001b[39m \u001b[38;5;28;43mself\u001b[39;49m\u001b[38;5;241;43m.\u001b[39;49m\u001b[43m_maybe_cast_slice_bound\u001b[49m\u001b[43m(\u001b[49m\u001b[43mlabel\u001b[49m\u001b[43m,\u001b[49m\u001b[43m \u001b[49m\u001b[43mside\u001b[49m\u001b[43m)\u001b[49m\n\u001b[1;32m   6721\u001b[0m \u001b[38;5;66;03m# we need to look up the label\u001b[39;00m\n\u001b[1;32m   6722\u001b[0m \u001b[38;5;28;01mtry\u001b[39;00m:\n",
      "File \u001b[0;32m~/miniconda3/lib/python3.9/site-packages/pandas/core/indexes/datetimes.py:767\u001b[0m, in \u001b[0;36mDatetimeIndex._maybe_cast_slice_bound\u001b[0;34m(self, label, side, kind)\u001b[0m\n\u001b[1;32m    762\u001b[0m \u001b[38;5;28;01mif\u001b[39;00m \u001b[38;5;28misinstance\u001b[39m(label, date) \u001b[38;5;129;01mand\u001b[39;00m \u001b[38;5;129;01mnot\u001b[39;00m \u001b[38;5;28misinstance\u001b[39m(label, datetime):\n\u001b[1;32m    763\u001b[0m     \u001b[38;5;66;03m# Pandas supports slicing with dates, treated as datetimes at midnight.\u001b[39;00m\n\u001b[1;32m    764\u001b[0m     \u001b[38;5;66;03m# https://github.com/pandas-dev/pandas/issues/31501\u001b[39;00m\n\u001b[1;32m    765\u001b[0m     label \u001b[38;5;241m=\u001b[39m Timestamp(label)\u001b[38;5;241m.\u001b[39mto_pydatetime()\n\u001b[0;32m--> 767\u001b[0m label \u001b[38;5;241m=\u001b[39m \u001b[38;5;28;43msuper\u001b[39;49m\u001b[43m(\u001b[49m\u001b[43m)\u001b[49m\u001b[38;5;241;43m.\u001b[39;49m\u001b[43m_maybe_cast_slice_bound\u001b[49m\u001b[43m(\u001b[49m\u001b[43mlabel\u001b[49m\u001b[43m,\u001b[49m\u001b[43m \u001b[49m\u001b[43mside\u001b[49m\u001b[43m,\u001b[49m\u001b[43m \u001b[49m\u001b[43mkind\u001b[49m\u001b[38;5;241;43m=\u001b[39;49m\u001b[43mkind\u001b[49m\u001b[43m)\u001b[49m\n\u001b[1;32m    768\u001b[0m \u001b[38;5;28mself\u001b[39m\u001b[38;5;241m.\u001b[39m_deprecate_mismatched_indexing(label)\n\u001b[1;32m    769\u001b[0m \u001b[38;5;28;01mreturn\u001b[39;00m \u001b[38;5;28mself\u001b[39m\u001b[38;5;241m.\u001b[39m_maybe_cast_for_get_loc(label)\n",
      "File \u001b[0;32m~/miniconda3/lib/python3.9/site-packages/pandas/core/indexes/datetimelike.py:320\u001b[0m, in \u001b[0;36mDatetimeIndexOpsMixin._maybe_cast_slice_bound\u001b[0;34m(self, label, side, kind)\u001b[0m\n\u001b[1;32m    318\u001b[0m     \u001b[38;5;28;01mreturn\u001b[39;00m lower \u001b[38;5;28;01mif\u001b[39;00m side \u001b[38;5;241m==\u001b[39m \u001b[38;5;124m\"\u001b[39m\u001b[38;5;124mleft\u001b[39m\u001b[38;5;124m\"\u001b[39m \u001b[38;5;28;01melse\u001b[39;00m upper\n\u001b[1;32m    319\u001b[0m \u001b[38;5;28;01melif\u001b[39;00m \u001b[38;5;129;01mnot\u001b[39;00m \u001b[38;5;28misinstance\u001b[39m(label, \u001b[38;5;28mself\u001b[39m\u001b[38;5;241m.\u001b[39m_data\u001b[38;5;241m.\u001b[39m_recognized_scalars):\n\u001b[0;32m--> 320\u001b[0m     \u001b[38;5;28;01mraise\u001b[39;00m \u001b[38;5;28mself\u001b[39m\u001b[38;5;241m.\u001b[39m_invalid_indexer(\u001b[38;5;124m\"\u001b[39m\u001b[38;5;124mslice\u001b[39m\u001b[38;5;124m\"\u001b[39m, label)\n\u001b[1;32m    322\u001b[0m \u001b[38;5;28;01mreturn\u001b[39;00m label\n",
      "\u001b[0;31mTypeError\u001b[0m: cannot do slice indexing on DatetimeIndex with these indexers [1] of type int"
     ]
    }
   ],
   "source": [
    "print(df.loc[1:2])\n",
    "df"
   ]
  },
  {
   "cell_type": "markdown",
   "metadata": {},
   "source": [
    "### Dropping\n",
    "\n",
    "N.B.: dropping doesn't act permanently on the DataFrame, i.e. to get that do :\n",
    "```python\n",
    "df = df.drop(....)\n",
    "```"
   ]
  },
  {
   "cell_type": "code",
   "execution_count": 46,
   "metadata": {},
   "outputs": [
    {
     "data": {
      "text/html": [
       "<div>\n",
       "<style scoped>\n",
       "    .dataframe tbody tr th:only-of-type {\n",
       "        vertical-align: middle;\n",
       "    }\n",
       "\n",
       "    .dataframe tbody tr th {\n",
       "        vertical-align: top;\n",
       "    }\n",
       "\n",
       "    .dataframe thead th {\n",
       "        text-align: right;\n",
       "    }\n",
       "</style>\n",
       "<table border=\"1\" class=\"dataframe\">\n",
       "  <thead>\n",
       "    <tr style=\"text-align: right;\">\n",
       "      <th></th>\n",
       "      <th>A</th>\n",
       "      <th>B</th>\n",
       "      <th>C</th>\n",
       "      <th>D</th>\n",
       "      <th>E</th>\n",
       "      <th>cosine</th>\n",
       "    </tr>\n",
       "  </thead>\n",
       "  <tbody>\n",
       "    <tr>\n",
       "      <th>2022-11-30 10:45:00</th>\n",
       "      <td>0.000000</td>\n",
       "      <td>0.676088</td>\n",
       "      <td>-0.696847</td>\n",
       "      <td>5</td>\n",
       "      <td>1.000000</td>\n",
       "      <td>1.000000</td>\n",
       "    </tr>\n",
       "    <tr>\n",
       "      <th>2022-11-30 11:45:00</th>\n",
       "      <td>-0.914051</td>\n",
       "      <td>-0.354280</td>\n",
       "      <td>0.963879</td>\n",
       "      <td>5</td>\n",
       "      <td>0.999962</td>\n",
       "      <td>0.999962</td>\n",
       "    </tr>\n",
       "    <tr>\n",
       "      <th>2022-11-30 12:45:00</th>\n",
       "      <td>-0.579611</td>\n",
       "      <td>-0.368374</td>\n",
       "      <td>0.110235</td>\n",
       "      <td>5</td>\n",
       "      <td>0.999848</td>\n",
       "      <td>0.999848</td>\n",
       "    </tr>\n",
       "    <tr>\n",
       "      <th>2022-11-30 13:45:00</th>\n",
       "      <td>0.160317</td>\n",
       "      <td>0.943957</td>\n",
       "      <td>-2.131690</td>\n",
       "      <td>5</td>\n",
       "      <td>0.999657</td>\n",
       "      <td>0.999657</td>\n",
       "    </tr>\n",
       "    <tr>\n",
       "      <th>2022-11-30 14:45:00</th>\n",
       "      <td>0.722298</td>\n",
       "      <td>-1.241749</td>\n",
       "      <td>0.539548</td>\n",
       "      <td>5</td>\n",
       "      <td>0.999391</td>\n",
       "      <td>0.999391</td>\n",
       "    </tr>\n",
       "    <tr>\n",
       "      <th>2022-11-30 15:45:00</th>\n",
       "      <td>0.125407</td>\n",
       "      <td>0.273689</td>\n",
       "      <td>0.469319</td>\n",
       "      <td>5</td>\n",
       "      <td>0.999048</td>\n",
       "      <td>0.999048</td>\n",
       "    </tr>\n",
       "    <tr>\n",
       "      <th>2022-11-30 16:45:00</th>\n",
       "      <td>-0.695347</td>\n",
       "      <td>-1.012851</td>\n",
       "      <td>1.347443</td>\n",
       "      <td>5</td>\n",
       "      <td>0.998630</td>\n",
       "      <td>0.998630</td>\n",
       "    </tr>\n",
       "    <tr>\n",
       "      <th>2022-11-30 17:45:00</th>\n",
       "      <td>-1.335070</td>\n",
       "      <td>0.230078</td>\n",
       "      <td>-0.620998</td>\n",
       "      <td>5</td>\n",
       "      <td>0.998135</td>\n",
       "      <td>0.998135</td>\n",
       "    </tr>\n",
       "    <tr>\n",
       "      <th>2022-11-30 18:45:00</th>\n",
       "      <td>-0.004254</td>\n",
       "      <td>0.450756</td>\n",
       "      <td>-1.207275</td>\n",
       "      <td>5</td>\n",
       "      <td>0.997564</td>\n",
       "      <td>0.997564</td>\n",
       "    </tr>\n",
       "    <tr>\n",
       "      <th>2022-11-30 19:45:00</th>\n",
       "      <td>0.353063</td>\n",
       "      <td>1.274526</td>\n",
       "      <td>-0.032613</td>\n",
       "      <td>5</td>\n",
       "      <td>0.996917</td>\n",
       "      <td>0.996917</td>\n",
       "    </tr>\n",
       "  </tbody>\n",
       "</table>\n",
       "</div>"
      ],
      "text/plain": [
       "                            A         B         C  D         E    cosine\n",
       "2022-11-30 10:45:00  0.000000  0.676088 -0.696847  5  1.000000  1.000000\n",
       "2022-11-30 11:45:00 -0.914051 -0.354280  0.963879  5  0.999962  0.999962\n",
       "2022-11-30 12:45:00 -0.579611 -0.368374  0.110235  5  0.999848  0.999848\n",
       "2022-11-30 13:45:00  0.160317  0.943957 -2.131690  5  0.999657  0.999657\n",
       "2022-11-30 14:45:00  0.722298 -1.241749  0.539548  5  0.999391  0.999391\n",
       "2022-11-30 15:45:00  0.125407  0.273689  0.469319  5  0.999048  0.999048\n",
       "2022-11-30 16:45:00 -0.695347 -1.012851  1.347443  5  0.998630  0.998630\n",
       "2022-11-30 17:45:00 -1.335070  0.230078 -0.620998  5  0.998135  0.998135\n",
       "2022-11-30 18:45:00 -0.004254  0.450756 -1.207275  5  0.997564  0.997564\n",
       "2022-11-30 19:45:00  0.353063  1.274526 -0.032613  5  0.996917  0.996917"
      ]
     },
     "execution_count": 46,
     "metadata": {},
     "output_type": "execute_result"
    }
   ],
   "source": [
    "# Dropping by column\n",
    "df.drop(['E prime'], axis=1)\n",
    "\n",
    "#which is equivalent to\n",
    "new_df=df.drop(columns=['E prime'])\n",
    "new_df"
   ]
  },
  {
   "cell_type": "code",
   "execution_count": 56,
   "metadata": {},
   "outputs": [
    {
     "data": {
      "text/html": [
       "<div>\n",
       "<style scoped>\n",
       "    .dataframe tbody tr th:only-of-type {\n",
       "        vertical-align: middle;\n",
       "    }\n",
       "\n",
       "    .dataframe tbody tr th {\n",
       "        vertical-align: top;\n",
       "    }\n",
       "\n",
       "    .dataframe thead th {\n",
       "        text-align: right;\n",
       "    }\n",
       "</style>\n",
       "<table border=\"1\" class=\"dataframe\">\n",
       "  <thead>\n",
       "    <tr style=\"text-align: right;\">\n",
       "      <th></th>\n",
       "      <th>A</th>\n",
       "      <th>B</th>\n",
       "      <th>C</th>\n",
       "      <th>D</th>\n",
       "      <th>E</th>\n",
       "      <th>E prime</th>\n",
       "      <th>cosine</th>\n",
       "    </tr>\n",
       "  </thead>\n",
       "  <tbody>\n",
       "    <tr>\n",
       "      <th>2022-11-30 10:45:00</th>\n",
       "      <td>0.000000</td>\n",
       "      <td>0.676088</td>\n",
       "      <td>-0.696847</td>\n",
       "      <td>5</td>\n",
       "      <td>1.000000</td>\n",
       "      <td>0</td>\n",
       "      <td>1.000000</td>\n",
       "    </tr>\n",
       "    <tr>\n",
       "      <th>2022-11-30 14:45:00</th>\n",
       "      <td>0.722298</td>\n",
       "      <td>-1.241749</td>\n",
       "      <td>0.539548</td>\n",
       "      <td>5</td>\n",
       "      <td>0.999391</td>\n",
       "      <td>8</td>\n",
       "      <td>0.999391</td>\n",
       "    </tr>\n",
       "    <tr>\n",
       "      <th>2022-11-30 15:45:00</th>\n",
       "      <td>0.125407</td>\n",
       "      <td>0.273689</td>\n",
       "      <td>0.469319</td>\n",
       "      <td>5</td>\n",
       "      <td>0.999048</td>\n",
       "      <td>10</td>\n",
       "      <td>0.999048</td>\n",
       "    </tr>\n",
       "    <tr>\n",
       "      <th>2022-11-30 16:45:00</th>\n",
       "      <td>-0.695347</td>\n",
       "      <td>-1.012851</td>\n",
       "      <td>1.347443</td>\n",
       "      <td>5</td>\n",
       "      <td>0.998630</td>\n",
       "      <td>12</td>\n",
       "      <td>0.998630</td>\n",
       "    </tr>\n",
       "    <tr>\n",
       "      <th>2022-11-30 17:45:00</th>\n",
       "      <td>-1.335070</td>\n",
       "      <td>0.230078</td>\n",
       "      <td>-0.620998</td>\n",
       "      <td>5</td>\n",
       "      <td>0.998135</td>\n",
       "      <td>14</td>\n",
       "      <td>0.998135</td>\n",
       "    </tr>\n",
       "    <tr>\n",
       "      <th>2022-11-30 18:45:00</th>\n",
       "      <td>-0.004254</td>\n",
       "      <td>0.450756</td>\n",
       "      <td>-1.207275</td>\n",
       "      <td>5</td>\n",
       "      <td>0.997564</td>\n",
       "      <td>16</td>\n",
       "      <td>0.997564</td>\n",
       "    </tr>\n",
       "    <tr>\n",
       "      <th>2022-11-30 19:45:00</th>\n",
       "      <td>0.353063</td>\n",
       "      <td>1.274526</td>\n",
       "      <td>-0.032613</td>\n",
       "      <td>5</td>\n",
       "      <td>0.996917</td>\n",
       "      <td>18</td>\n",
       "      <td>0.996917</td>\n",
       "    </tr>\n",
       "  </tbody>\n",
       "</table>\n",
       "</div>"
      ],
      "text/plain": [
       "                            A         B         C  D         E  E prime  \\\n",
       "2022-11-30 10:45:00  0.000000  0.676088 -0.696847  5  1.000000        0   \n",
       "2022-11-30 14:45:00  0.722298 -1.241749  0.539548  5  0.999391        8   \n",
       "2022-11-30 15:45:00  0.125407  0.273689  0.469319  5  0.999048       10   \n",
       "2022-11-30 16:45:00 -0.695347 -1.012851  1.347443  5  0.998630       12   \n",
       "2022-11-30 17:45:00 -1.335070  0.230078 -0.620998  5  0.998135       14   \n",
       "2022-11-30 18:45:00 -0.004254  0.450756 -1.207275  5  0.997564       16   \n",
       "2022-11-30 19:45:00  0.353063  1.274526 -0.032613  5  0.996917       18   \n",
       "\n",
       "                       cosine  \n",
       "2022-11-30 10:45:00  1.000000  \n",
       "2022-11-30 14:45:00  0.999391  \n",
       "2022-11-30 15:45:00  0.999048  \n",
       "2022-11-30 16:45:00  0.998630  \n",
       "2022-11-30 17:45:00  0.998135  \n",
       "2022-11-30 18:45:00  0.997564  \n",
       "2022-11-30 19:45:00  0.996917  "
      ]
     },
     "execution_count": 56,
     "metadata": {},
     "output_type": "execute_result"
    }
   ],
   "source": [
    "# Dropping by raws\n",
    "# safe and always working\n",
    "df.drop(df.index[1:4])"
   ]
  },
  {
   "cell_type": "code",
   "execution_count": null,
   "metadata": {},
   "outputs": [],
   "source": [
    "df"
   ]
  },
  {
   "cell_type": "code",
   "execution_count": 43,
   "metadata": {},
   "outputs": [
    {
     "data": {
      "text/html": [
       "<div>\n",
       "<style scoped>\n",
       "    .dataframe tbody tr th:only-of-type {\n",
       "        vertical-align: middle;\n",
       "    }\n",
       "\n",
       "    .dataframe tbody tr th {\n",
       "        vertical-align: top;\n",
       "    }\n",
       "\n",
       "    .dataframe thead th {\n",
       "        text-align: right;\n",
       "    }\n",
       "</style>\n",
       "<table border=\"1\" class=\"dataframe\">\n",
       "  <thead>\n",
       "    <tr style=\"text-align: right;\">\n",
       "      <th></th>\n",
       "      <th>A</th>\n",
       "      <th>B</th>\n",
       "      <th>C</th>\n",
       "      <th>D</th>\n",
       "      <th>E</th>\n",
       "      <th>E prime</th>\n",
       "      <th>cosine</th>\n",
       "    </tr>\n",
       "  </thead>\n",
       "  <tbody>\n",
       "    <tr>\n",
       "      <th>2022-11-30 10:45:00</th>\n",
       "      <td>0.000000</td>\n",
       "      <td>0.676088</td>\n",
       "      <td>-0.696847</td>\n",
       "      <td>5</td>\n",
       "      <td>1.000000</td>\n",
       "      <td>0</td>\n",
       "      <td>1.000000</td>\n",
       "    </tr>\n",
       "    <tr>\n",
       "      <th>2022-11-30 11:45:00</th>\n",
       "      <td>-0.914051</td>\n",
       "      <td>-0.354280</td>\n",
       "      <td>0.963879</td>\n",
       "      <td>5</td>\n",
       "      <td>0.999962</td>\n",
       "      <td>2</td>\n",
       "      <td>0.999962</td>\n",
       "    </tr>\n",
       "    <tr>\n",
       "      <th>2022-11-30 12:45:00</th>\n",
       "      <td>-0.579611</td>\n",
       "      <td>-0.368374</td>\n",
       "      <td>0.110235</td>\n",
       "      <td>5</td>\n",
       "      <td>0.999848</td>\n",
       "      <td>4</td>\n",
       "      <td>0.999848</td>\n",
       "    </tr>\n",
       "    <tr>\n",
       "      <th>2022-11-30 13:45:00</th>\n",
       "      <td>0.160317</td>\n",
       "      <td>0.943957</td>\n",
       "      <td>-2.131690</td>\n",
       "      <td>5</td>\n",
       "      <td>0.999657</td>\n",
       "      <td>6</td>\n",
       "      <td>0.999657</td>\n",
       "    </tr>\n",
       "    <tr>\n",
       "      <th>2022-11-30 14:45:00</th>\n",
       "      <td>0.722298</td>\n",
       "      <td>-1.241749</td>\n",
       "      <td>0.539548</td>\n",
       "      <td>5</td>\n",
       "      <td>0.999391</td>\n",
       "      <td>8</td>\n",
       "      <td>0.999391</td>\n",
       "    </tr>\n",
       "    <tr>\n",
       "      <th>2022-11-30 15:45:00</th>\n",
       "      <td>0.125407</td>\n",
       "      <td>0.273689</td>\n",
       "      <td>0.469319</td>\n",
       "      <td>5</td>\n",
       "      <td>0.999048</td>\n",
       "      <td>10</td>\n",
       "      <td>0.999048</td>\n",
       "    </tr>\n",
       "    <tr>\n",
       "      <th>2022-11-30 16:45:00</th>\n",
       "      <td>-0.695347</td>\n",
       "      <td>-1.012851</td>\n",
       "      <td>1.347443</td>\n",
       "      <td>5</td>\n",
       "      <td>0.998630</td>\n",
       "      <td>12</td>\n",
       "      <td>0.998630</td>\n",
       "    </tr>\n",
       "    <tr>\n",
       "      <th>2022-11-30 17:45:00</th>\n",
       "      <td>-1.335070</td>\n",
       "      <td>0.230078</td>\n",
       "      <td>-0.620998</td>\n",
       "      <td>5</td>\n",
       "      <td>0.998135</td>\n",
       "      <td>14</td>\n",
       "      <td>0.998135</td>\n",
       "    </tr>\n",
       "    <tr>\n",
       "      <th>2022-11-30 19:45:00</th>\n",
       "      <td>0.353063</td>\n",
       "      <td>1.274526</td>\n",
       "      <td>-0.032613</td>\n",
       "      <td>5</td>\n",
       "      <td>0.996917</td>\n",
       "      <td>18</td>\n",
       "      <td>0.996917</td>\n",
       "    </tr>\n",
       "  </tbody>\n",
       "</table>\n",
       "</div>"
      ],
      "text/plain": [
       "                            A         B         C  D         E  E prime  \\\n",
       "2022-11-30 10:45:00  0.000000  0.676088 -0.696847  5  1.000000        0   \n",
       "2022-11-30 11:45:00 -0.914051 -0.354280  0.963879  5  0.999962        2   \n",
       "2022-11-30 12:45:00 -0.579611 -0.368374  0.110235  5  0.999848        4   \n",
       "2022-11-30 13:45:00  0.160317  0.943957 -2.131690  5  0.999657        6   \n",
       "2022-11-30 14:45:00  0.722298 -1.241749  0.539548  5  0.999391        8   \n",
       "2022-11-30 15:45:00  0.125407  0.273689  0.469319  5  0.999048       10   \n",
       "2022-11-30 16:45:00 -0.695347 -1.012851  1.347443  5  0.998630       12   \n",
       "2022-11-30 17:45:00 -1.335070  0.230078 -0.620998  5  0.998135       14   \n",
       "2022-11-30 19:45:00  0.353063  1.274526 -0.032613  5  0.996917       18   \n",
       "\n",
       "                       cosine  \n",
       "2022-11-30 10:45:00  1.000000  \n",
       "2022-11-30 11:45:00  0.999962  \n",
       "2022-11-30 12:45:00  0.999848  \n",
       "2022-11-30 13:45:00  0.999657  \n",
       "2022-11-30 14:45:00  0.999391  \n",
       "2022-11-30 15:45:00  0.999048  \n",
       "2022-11-30 16:45:00  0.998630  \n",
       "2022-11-30 17:45:00  0.998135  \n",
       "2022-11-30 19:45:00  0.996917  "
      ]
     },
     "execution_count": 43,
     "metadata": {},
     "output_type": "execute_result"
    }
   ],
   "source": [
    "# something like df.drop('index_name') \n",
    "# would work but the type of index must be specificed, \n",
    "# in particular with DatetimeIndex\n",
    "df.drop(pd.to_datetime(\"2022-11-30 18:45:00\"))"
   ]
  },
  {
   "cell_type": "markdown",
   "metadata": {},
   "source": [
    "## Missing data\n",
    "\n",
    "pandas primarily uses the value np.nan to represent missing data. It is by default not included in computations."
   ]
  },
  {
   "cell_type": "code",
   "execution_count": 57,
   "metadata": {},
   "outputs": [
    {
     "data": {
      "text/html": [
       "<div>\n",
       "<style scoped>\n",
       "    .dataframe tbody tr th:only-of-type {\n",
       "        vertical-align: middle;\n",
       "    }\n",
       "\n",
       "    .dataframe tbody tr th {\n",
       "        vertical-align: top;\n",
       "    }\n",
       "\n",
       "    .dataframe thead th {\n",
       "        text-align: right;\n",
       "    }\n",
       "</style>\n",
       "<table border=\"1\" class=\"dataframe\">\n",
       "  <thead>\n",
       "    <tr style=\"text-align: right;\">\n",
       "      <th></th>\n",
       "      <th>A</th>\n",
       "      <th>B</th>\n",
       "      <th>C</th>\n",
       "      <th>D</th>\n",
       "      <th>E</th>\n",
       "      <th>E prime</th>\n",
       "      <th>cosine</th>\n",
       "    </tr>\n",
       "  </thead>\n",
       "  <tbody>\n",
       "    <tr>\n",
       "      <th>2022-11-30 10:45:00</th>\n",
       "      <td>NaN</td>\n",
       "      <td>0.676088</td>\n",
       "      <td>NaN</td>\n",
       "      <td>5</td>\n",
       "      <td>1.000000</td>\n",
       "      <td>NaN</td>\n",
       "      <td>1.000000</td>\n",
       "    </tr>\n",
       "    <tr>\n",
       "      <th>2022-11-30 11:45:00</th>\n",
       "      <td>NaN</td>\n",
       "      <td>NaN</td>\n",
       "      <td>0.963879</td>\n",
       "      <td>5</td>\n",
       "      <td>0.999962</td>\n",
       "      <td>2.0</td>\n",
       "      <td>0.999962</td>\n",
       "    </tr>\n",
       "    <tr>\n",
       "      <th>2022-11-30 12:45:00</th>\n",
       "      <td>NaN</td>\n",
       "      <td>NaN</td>\n",
       "      <td>0.110235</td>\n",
       "      <td>5</td>\n",
       "      <td>0.999848</td>\n",
       "      <td>4.0</td>\n",
       "      <td>0.999848</td>\n",
       "    </tr>\n",
       "    <tr>\n",
       "      <th>2022-11-30 13:45:00</th>\n",
       "      <td>0.160317</td>\n",
       "      <td>0.943957</td>\n",
       "      <td>NaN</td>\n",
       "      <td>5</td>\n",
       "      <td>0.999657</td>\n",
       "      <td>6.0</td>\n",
       "      <td>0.999657</td>\n",
       "    </tr>\n",
       "    <tr>\n",
       "      <th>2022-11-30 14:45:00</th>\n",
       "      <td>0.722298</td>\n",
       "      <td>NaN</td>\n",
       "      <td>0.539548</td>\n",
       "      <td>5</td>\n",
       "      <td>0.999391</td>\n",
       "      <td>8.0</td>\n",
       "      <td>0.999391</td>\n",
       "    </tr>\n",
       "    <tr>\n",
       "      <th>2022-11-30 15:45:00</th>\n",
       "      <td>0.125407</td>\n",
       "      <td>0.273689</td>\n",
       "      <td>0.469319</td>\n",
       "      <td>5</td>\n",
       "      <td>0.999048</td>\n",
       "      <td>10.0</td>\n",
       "      <td>0.999048</td>\n",
       "    </tr>\n",
       "    <tr>\n",
       "      <th>2022-11-30 16:45:00</th>\n",
       "      <td>NaN</td>\n",
       "      <td>NaN</td>\n",
       "      <td>1.347443</td>\n",
       "      <td>5</td>\n",
       "      <td>0.998630</td>\n",
       "      <td>12.0</td>\n",
       "      <td>0.998630</td>\n",
       "    </tr>\n",
       "    <tr>\n",
       "      <th>2022-11-30 17:45:00</th>\n",
       "      <td>NaN</td>\n",
       "      <td>0.230078</td>\n",
       "      <td>NaN</td>\n",
       "      <td>5</td>\n",
       "      <td>0.998135</td>\n",
       "      <td>14.0</td>\n",
       "      <td>0.998135</td>\n",
       "    </tr>\n",
       "    <tr>\n",
       "      <th>2022-11-30 18:45:00</th>\n",
       "      <td>NaN</td>\n",
       "      <td>0.450756</td>\n",
       "      <td>NaN</td>\n",
       "      <td>5</td>\n",
       "      <td>0.997564</td>\n",
       "      <td>16.0</td>\n",
       "      <td>0.997564</td>\n",
       "    </tr>\n",
       "    <tr>\n",
       "      <th>2022-11-30 19:45:00</th>\n",
       "      <td>0.353063</td>\n",
       "      <td>1.274526</td>\n",
       "      <td>NaN</td>\n",
       "      <td>5</td>\n",
       "      <td>0.996917</td>\n",
       "      <td>18.0</td>\n",
       "      <td>0.996917</td>\n",
       "    </tr>\n",
       "  </tbody>\n",
       "</table>\n",
       "</div>"
      ],
      "text/plain": [
       "                            A         B         C  D         E  E prime  \\\n",
       "2022-11-30 10:45:00       NaN  0.676088       NaN  5  1.000000      NaN   \n",
       "2022-11-30 11:45:00       NaN       NaN  0.963879  5  0.999962      2.0   \n",
       "2022-11-30 12:45:00       NaN       NaN  0.110235  5  0.999848      4.0   \n",
       "2022-11-30 13:45:00  0.160317  0.943957       NaN  5  0.999657      6.0   \n",
       "2022-11-30 14:45:00  0.722298       NaN  0.539548  5  0.999391      8.0   \n",
       "2022-11-30 15:45:00  0.125407  0.273689  0.469319  5  0.999048     10.0   \n",
       "2022-11-30 16:45:00       NaN       NaN  1.347443  5  0.998630     12.0   \n",
       "2022-11-30 17:45:00       NaN  0.230078       NaN  5  0.998135     14.0   \n",
       "2022-11-30 18:45:00       NaN  0.450756       NaN  5  0.997564     16.0   \n",
       "2022-11-30 19:45:00  0.353063  1.274526       NaN  5  0.996917     18.0   \n",
       "\n",
       "                       cosine  \n",
       "2022-11-30 10:45:00  1.000000  \n",
       "2022-11-30 11:45:00  0.999962  \n",
       "2022-11-30 12:45:00  0.999848  \n",
       "2022-11-30 13:45:00  0.999657  \n",
       "2022-11-30 14:45:00  0.999391  \n",
       "2022-11-30 15:45:00  0.999048  \n",
       "2022-11-30 16:45:00  0.998630  \n",
       "2022-11-30 17:45:00  0.998135  \n",
       "2022-11-30 18:45:00  0.997564  \n",
       "2022-11-30 19:45:00  0.996917  "
      ]
     },
     "execution_count": 57,
     "metadata": {},
     "output_type": "execute_result"
    }
   ],
   "source": [
    "df_wNan = df[df>0]\n",
    "df_wNan"
   ]
  },
  {
   "cell_type": "code",
   "execution_count": 58,
   "metadata": {},
   "outputs": [
    {
     "data": {
      "text/html": [
       "<div>\n",
       "<style scoped>\n",
       "    .dataframe tbody tr th:only-of-type {\n",
       "        vertical-align: middle;\n",
       "    }\n",
       "\n",
       "    .dataframe tbody tr th {\n",
       "        vertical-align: top;\n",
       "    }\n",
       "\n",
       "    .dataframe thead th {\n",
       "        text-align: right;\n",
       "    }\n",
       "</style>\n",
       "<table border=\"1\" class=\"dataframe\">\n",
       "  <thead>\n",
       "    <tr style=\"text-align: right;\">\n",
       "      <th></th>\n",
       "      <th>A</th>\n",
       "      <th>B</th>\n",
       "      <th>C</th>\n",
       "      <th>D</th>\n",
       "      <th>E</th>\n",
       "      <th>E prime</th>\n",
       "      <th>cosine</th>\n",
       "    </tr>\n",
       "  </thead>\n",
       "  <tbody>\n",
       "    <tr>\n",
       "      <th>2022-11-30 15:45:00</th>\n",
       "      <td>0.125407</td>\n",
       "      <td>0.273689</td>\n",
       "      <td>0.469319</td>\n",
       "      <td>5</td>\n",
       "      <td>0.999048</td>\n",
       "      <td>10.0</td>\n",
       "      <td>0.999048</td>\n",
       "    </tr>\n",
       "  </tbody>\n",
       "</table>\n",
       "</div>"
      ],
      "text/plain": [
       "                            A         B         C  D         E  E prime  \\\n",
       "2022-11-30 15:45:00  0.125407  0.273689  0.469319  5  0.999048     10.0   \n",
       "\n",
       "                       cosine  \n",
       "2022-11-30 15:45:00  0.999048  "
      ]
     },
     "execution_count": 58,
     "metadata": {},
     "output_type": "execute_result"
    }
   ],
   "source": [
    "# dropping raws with at least a Nan\n",
    "df_wNan.dropna(how='any')"
   ]
  },
  {
   "cell_type": "code",
   "execution_count": null,
   "metadata": {},
   "outputs": [],
   "source": [
    "# getting a mask\n",
    "df_wNan.isna()\n",
    "#df_wNan.notna()"
   ]
  },
  {
   "cell_type": "code",
   "execution_count": null,
   "metadata": {},
   "outputs": [],
   "source": [
    "# filling missing data\n",
    "df_wNan.fillna(value=0)"
   ]
  },
  {
   "cell_type": "markdown",
   "metadata": {},
   "source": [
    "Fill gaps forward or backward by propagating non-NA values forward or backward:"
   ]
  },
  {
   "cell_type": "code",
   "execution_count": null,
   "metadata": {},
   "outputs": [],
   "source": [
    "df_wNan.fillna(method='pad')"
   ]
  },
  {
   "cell_type": "markdown",
   "metadata": {},
   "source": [
    "## Operations\n",
    "\n",
    "Here comes the most relevant advantage of DataFrame. Operations on columns are extremly fast, almost as fast as the actual operation between elements in a raw"
   ]
  },
  {
   "cell_type": "code",
   "execution_count": null,
   "metadata": {},
   "outputs": [],
   "source": [
    "# Some statistics (mean() just as an example)\n",
    "# raws\n",
    "print (df.mean(axis=0),'\\n')\n",
    "# columns\n",
    "print (df.mean(axis=1),'\\n')"
   ]
  },
  {
   "cell_type": "code",
   "execution_count": null,
   "metadata": {},
   "outputs": [],
   "source": [
    "# global operations on columns\n",
    "df.apply(np.cumsum)"
   ]
  },
  {
   "cell_type": "code",
   "execution_count": null,
   "metadata": {},
   "outputs": [],
   "source": [
    "df"
   ]
  },
  {
   "cell_type": "code",
   "execution_count": null,
   "metadata": {},
   "outputs": [],
   "source": [
    "df.apply(lambda x: x.max() - x.min())"
   ]
  },
  {
   "cell_type": "code",
   "execution_count": null,
   "metadata": {},
   "outputs": [],
   "source": [
    "# syntax is as usual similar to that of numpy arrays\n",
    "df['A']+df['B']"
   ]
  },
  {
   "cell_type": "markdown",
   "metadata": {},
   "source": [
    "Let's play it hard and load (in memory) a (relatively) large dataset"
   ]
  },
  {
   "cell_type": "code",
   "execution_count": null,
   "metadata": {},
   "outputs": [],
   "source": [
    "# WARNING! link in past notebook was wrong!, (if needed) get the right file from:\n",
    "#!wget https://www.dropbox.com/s/xvjzaxzz3ysphme/data_000637.txt -P ~/data/\n",
    "\n",
    "file_name=\"~/data/data_000637.txt\"\n",
    "data=pd.read_csv(file_name)\n",
    "data"
   ]
  },
  {
   "cell_type": "markdown",
   "metadata": {},
   "source": [
    "Let's now do some operations among (elements of) columns"
   ]
  },
  {
   "cell_type": "code",
   "execution_count": null,
   "metadata": {},
   "outputs": [],
   "source": [
    "# the one-liner killing it all\n",
    "data['timens']=data['TDC_MEAS']*25/30+data['BX_COUNTER']*25"
   ]
  },
  {
   "cell_type": "code",
   "execution_count": null,
   "metadata": {},
   "outputs": [],
   "source": [
    "data['timens']"
   ]
  },
  {
   "cell_type": "code",
   "execution_count": null,
   "metadata": {},
   "outputs": [],
   "source": [
    "# the old slooow way\n",
    "def conversion(data):\n",
    "    result=[]\n",
    "    for i in range(len(data)): \n",
    "        result.append(data.loc[data.index[i],'TDC_MEAS']*25/30.+data.loc[data.index[i],'BX_COUNTER']*25)\n",
    "    return result\n",
    "\n",
    "data['timens']=conversion(data)"
   ]
  },
  {
   "cell_type": "markdown",
   "metadata": {},
   "source": [
    "## Merge\n",
    "\n",
    "pandas provides various facilities for easily combining together Series, DataFrame, and Panel objects with various kinds of set logic for the indexes and relational algebra functionality in the case of join / merge-type operations.\n",
    "\n",
    "### Concat\n",
    "\n",
    "concatenation (adding rows) is straightforward\n"
   ]
  },
  {
   "cell_type": "code",
   "execution_count": 73,
   "metadata": {},
   "outputs": [
    {
     "data": {
      "text/html": [
       "<div>\n",
       "<style scoped>\n",
       "    .dataframe tbody tr th:only-of-type {\n",
       "        vertical-align: middle;\n",
       "    }\n",
       "\n",
       "    .dataframe tbody tr th {\n",
       "        vertical-align: top;\n",
       "    }\n",
       "\n",
       "    .dataframe thead th {\n",
       "        text-align: right;\n",
       "    }\n",
       "</style>\n",
       "<table border=\"1\" class=\"dataframe\">\n",
       "  <thead>\n",
       "    <tr style=\"text-align: right;\">\n",
       "      <th></th>\n",
       "      <th>0</th>\n",
       "      <th>1</th>\n",
       "      <th>2</th>\n",
       "      <th>3</th>\n",
       "    </tr>\n",
       "  </thead>\n",
       "  <tbody>\n",
       "    <tr>\n",
       "      <th>0</th>\n",
       "      <td>-0.028727</td>\n",
       "      <td>1.122064</td>\n",
       "      <td>0.363593</td>\n",
       "      <td>-0.203297</td>\n",
       "    </tr>\n",
       "    <tr>\n",
       "      <th>1</th>\n",
       "      <td>0.888441</td>\n",
       "      <td>1.204778</td>\n",
       "      <td>0.889732</td>\n",
       "      <td>0.617800</td>\n",
       "    </tr>\n",
       "    <tr>\n",
       "      <th>2</th>\n",
       "      <td>0.361579</td>\n",
       "      <td>0.656055</td>\n",
       "      <td>0.553964</td>\n",
       "      <td>-0.323980</td>\n",
       "    </tr>\n",
       "    <tr>\n",
       "      <th>3</th>\n",
       "      <td>0.372545</td>\n",
       "      <td>-1.700819</td>\n",
       "      <td>1.399021</td>\n",
       "      <td>0.666272</td>\n",
       "    </tr>\n",
       "    <tr>\n",
       "      <th>4</th>\n",
       "      <td>-1.741984</td>\n",
       "      <td>1.507617</td>\n",
       "      <td>0.735075</td>\n",
       "      <td>-1.497942</td>\n",
       "    </tr>\n",
       "    <tr>\n",
       "      <th>5</th>\n",
       "      <td>1.671383</td>\n",
       "      <td>0.051183</td>\n",
       "      <td>-0.472985</td>\n",
       "      <td>-0.569951</td>\n",
       "    </tr>\n",
       "    <tr>\n",
       "      <th>6</th>\n",
       "      <td>0.493975</td>\n",
       "      <td>-1.191743</td>\n",
       "      <td>1.096609</td>\n",
       "      <td>1.270440</td>\n",
       "    </tr>\n",
       "    <tr>\n",
       "      <th>7</th>\n",
       "      <td>1.356554</td>\n",
       "      <td>0.124650</td>\n",
       "      <td>-1.595418</td>\n",
       "      <td>0.346946</td>\n",
       "    </tr>\n",
       "    <tr>\n",
       "      <th>8</th>\n",
       "      <td>-0.911698</td>\n",
       "      <td>-0.143950</td>\n",
       "      <td>-1.652155</td>\n",
       "      <td>-0.315670</td>\n",
       "    </tr>\n",
       "    <tr>\n",
       "      <th>9</th>\n",
       "      <td>-0.105808</td>\n",
       "      <td>0.628729</td>\n",
       "      <td>-1.730673</td>\n",
       "      <td>0.447092</td>\n",
       "    </tr>\n",
       "  </tbody>\n",
       "</table>\n",
       "</div>"
      ],
      "text/plain": [
       "          0         1         2         3\n",
       "0 -0.028727  1.122064  0.363593 -0.203297\n",
       "1  0.888441  1.204778  0.889732  0.617800\n",
       "2  0.361579  0.656055  0.553964 -0.323980\n",
       "3  0.372545 -1.700819  1.399021  0.666272\n",
       "4 -1.741984  1.507617  0.735075 -1.497942\n",
       "5  1.671383  0.051183 -0.472985 -0.569951\n",
       "6  0.493975 -1.191743  1.096609  1.270440\n",
       "7  1.356554  0.124650 -1.595418  0.346946\n",
       "8 -0.911698 -0.143950 -1.652155 -0.315670\n",
       "9 -0.105808  0.628729 -1.730673  0.447092"
      ]
     },
     "execution_count": 73,
     "metadata": {},
     "output_type": "execute_result"
    }
   ],
   "source": [
    "rdf = pd.DataFrame(np.random.randn(10, 4))\n",
    "rdf"
   ]
  },
  {
   "cell_type": "code",
   "execution_count": 79,
   "metadata": {},
   "outputs": [
    {
     "name": "stderr",
     "output_type": "stream",
     "text": [
      "/tmp/ipykernel_623/2524110538.py:3: SettingWithCopyWarning: \n",
      "A value is trying to be set on a copy of a slice from a DataFrame.\n",
      "Try using .loc[row_indexer,col_indexer] = value instead\n",
      "\n",
      "See the caveats in the documentation: https://pandas.pydata.org/pandas-docs/stable/user_guide/indexing.html#returning-a-view-versus-a-copy\n",
      "  pieces[0]['4'] = np.array([1,2,3])\n"
     ]
    }
   ],
   "source": [
    "# divide it into pieaces raw-wise\n",
    "pieces = [rdf[:3], rdf[3:7], rdf[7:]]\n",
    "pieces"
   ]
  },
  {
   "cell_type": "code",
   "execution_count": 77,
   "metadata": {},
   "outputs": [
    {
     "data": {
      "text/html": [
       "<div>\n",
       "<style scoped>\n",
       "    .dataframe tbody tr th:only-of-type {\n",
       "        vertical-align: middle;\n",
       "    }\n",
       "\n",
       "    .dataframe tbody tr th {\n",
       "        vertical-align: top;\n",
       "    }\n",
       "\n",
       "    .dataframe thead th {\n",
       "        text-align: right;\n",
       "    }\n",
       "</style>\n",
       "<table border=\"1\" class=\"dataframe\">\n",
       "  <thead>\n",
       "    <tr style=\"text-align: right;\">\n",
       "      <th></th>\n",
       "      <th>0</th>\n",
       "      <th>1</th>\n",
       "      <th>2</th>\n",
       "      <th>3</th>\n",
       "    </tr>\n",
       "  </thead>\n",
       "  <tbody>\n",
       "    <tr>\n",
       "      <th>0</th>\n",
       "      <td>-0.028727</td>\n",
       "      <td>1.122064</td>\n",
       "      <td>0.363593</td>\n",
       "      <td>-0.203297</td>\n",
       "    </tr>\n",
       "    <tr>\n",
       "      <th>1</th>\n",
       "      <td>0.888441</td>\n",
       "      <td>1.204778</td>\n",
       "      <td>0.889732</td>\n",
       "      <td>0.617800</td>\n",
       "    </tr>\n",
       "    <tr>\n",
       "      <th>2</th>\n",
       "      <td>0.361579</td>\n",
       "      <td>0.656055</td>\n",
       "      <td>0.553964</td>\n",
       "      <td>-0.323980</td>\n",
       "    </tr>\n",
       "    <tr>\n",
       "      <th>3</th>\n",
       "      <td>0.372545</td>\n",
       "      <td>-1.700819</td>\n",
       "      <td>1.399021</td>\n",
       "      <td>0.666272</td>\n",
       "    </tr>\n",
       "    <tr>\n",
       "      <th>4</th>\n",
       "      <td>-1.741984</td>\n",
       "      <td>1.507617</td>\n",
       "      <td>0.735075</td>\n",
       "      <td>-1.497942</td>\n",
       "    </tr>\n",
       "    <tr>\n",
       "      <th>5</th>\n",
       "      <td>1.671383</td>\n",
       "      <td>0.051183</td>\n",
       "      <td>-0.472985</td>\n",
       "      <td>-0.569951</td>\n",
       "    </tr>\n",
       "    <tr>\n",
       "      <th>6</th>\n",
       "      <td>0.493975</td>\n",
       "      <td>-1.191743</td>\n",
       "      <td>1.096609</td>\n",
       "      <td>1.270440</td>\n",
       "    </tr>\n",
       "    <tr>\n",
       "      <th>7</th>\n",
       "      <td>1.356554</td>\n",
       "      <td>0.124650</td>\n",
       "      <td>-1.595418</td>\n",
       "      <td>0.346946</td>\n",
       "    </tr>\n",
       "    <tr>\n",
       "      <th>8</th>\n",
       "      <td>-0.911698</td>\n",
       "      <td>-0.143950</td>\n",
       "      <td>-1.652155</td>\n",
       "      <td>-0.315670</td>\n",
       "    </tr>\n",
       "    <tr>\n",
       "      <th>9</th>\n",
       "      <td>-0.105808</td>\n",
       "      <td>0.628729</td>\n",
       "      <td>-1.730673</td>\n",
       "      <td>0.447092</td>\n",
       "    </tr>\n",
       "  </tbody>\n",
       "</table>\n",
       "</div>"
      ],
      "text/plain": [
       "          0         1         2         3\n",
       "0 -0.028727  1.122064  0.363593 -0.203297\n",
       "1  0.888441  1.204778  0.889732  0.617800\n",
       "2  0.361579  0.656055  0.553964 -0.323980\n",
       "3  0.372545 -1.700819  1.399021  0.666272\n",
       "4 -1.741984  1.507617  0.735075 -1.497942\n",
       "5  1.671383  0.051183 -0.472985 -0.569951\n",
       "6  0.493975 -1.191743  1.096609  1.270440\n",
       "7  1.356554  0.124650 -1.595418  0.346946\n",
       "8 -0.911698 -0.143950 -1.652155 -0.315670\n",
       "9 -0.105808  0.628729 -1.730673  0.447092"
      ]
     },
     "execution_count": 77,
     "metadata": {},
     "output_type": "execute_result"
    }
   ],
   "source": [
    "# put it back together\n",
    "pd.concat(pieces)\n",
    "\n",
    "# indexes can be ignored\n",
    "#pd.concat(pieces, ignore_index=True)\n",
    "\n",
    "# in case of dimension mismatch, Nan are added where needed"
   ]
  },
  {
   "cell_type": "code",
   "execution_count": null,
   "metadata": {},
   "outputs": [],
   "source": [
    "# appending a single row (as a Series)\n",
    "s = rdf.iloc[3]\n",
    "rdf.append(s, ignore_index=True)\n",
    "rdf"
   ]
  },
  {
   "cell_type": "markdown",
   "metadata": {},
   "source": [
    "### Merge/Join\n",
    "\n",
    "SQL like operations on table can be performed on DataFrames. This is all rather sophisticated, refer to the [doc](https://pandas.pydata.org/pandas-docs/stable/merging.html#merging) for more info/examples"
   ]
  },
  {
   "cell_type": "code",
   "execution_count": 80,
   "metadata": {},
   "outputs": [
    {
     "name": "stdout",
     "output_type": "stream",
     "text": [
      "   key  lval\n",
      "0  foo     1\n",
      "1  bar     2\n",
      "   key  rval\n",
      "0  foo     4\n",
      "1  bar     5\n"
     ]
    },
    {
     "data": {
      "text/html": [
       "<div>\n",
       "<style scoped>\n",
       "    .dataframe tbody tr th:only-of-type {\n",
       "        vertical-align: middle;\n",
       "    }\n",
       "\n",
       "    .dataframe tbody tr th {\n",
       "        vertical-align: top;\n",
       "    }\n",
       "\n",
       "    .dataframe thead th {\n",
       "        text-align: right;\n",
       "    }\n",
       "</style>\n",
       "<table border=\"1\" class=\"dataframe\">\n",
       "  <thead>\n",
       "    <tr style=\"text-align: right;\">\n",
       "      <th></th>\n",
       "      <th>key</th>\n",
       "      <th>lval</th>\n",
       "      <th>rval</th>\n",
       "    </tr>\n",
       "  </thead>\n",
       "  <tbody>\n",
       "    <tr>\n",
       "      <th>0</th>\n",
       "      <td>foo</td>\n",
       "      <td>1</td>\n",
       "      <td>4</td>\n",
       "    </tr>\n",
       "    <tr>\n",
       "      <th>1</th>\n",
       "      <td>bar</td>\n",
       "      <td>2</td>\n",
       "      <td>5</td>\n",
       "    </tr>\n",
       "  </tbody>\n",
       "</table>\n",
       "</div>"
      ],
      "text/plain": [
       "   key  lval  rval\n",
       "0  foo     1     4\n",
       "1  bar     2     5"
      ]
     },
     "execution_count": 80,
     "metadata": {},
     "output_type": "execute_result"
    }
   ],
   "source": [
    "left = pd.DataFrame({'key': ['foo', 'bar'], 'lval': [1, 2]})\n",
    "print(left)\n",
    "right = pd.DataFrame({'key': ['foo', 'bar'], 'rval': [4, 5]})\n",
    "print(right)\n",
    "pd.merge(left,right,on=\"key\")"
   ]
  },
  {
   "cell_type": "markdown",
   "metadata": {},
   "source": [
    "## Grouping\n",
    "\n",
    "By “group by” we are referring to a process involving one or more of the following steps:\n",
    "\n",
    "* Splitting the data into groups based on some criteria\n",
    "* Applying a function to each group independently\n",
    "* Combining the results into a data structure\n"
   ]
  },
  {
   "cell_type": "code",
   "execution_count": 81,
   "metadata": {},
   "outputs": [
    {
     "data": {
      "text/html": [
       "<div>\n",
       "<style scoped>\n",
       "    .dataframe tbody tr th:only-of-type {\n",
       "        vertical-align: middle;\n",
       "    }\n",
       "\n",
       "    .dataframe tbody tr th {\n",
       "        vertical-align: top;\n",
       "    }\n",
       "\n",
       "    .dataframe thead th {\n",
       "        text-align: right;\n",
       "    }\n",
       "</style>\n",
       "<table border=\"1\" class=\"dataframe\">\n",
       "  <thead>\n",
       "    <tr style=\"text-align: right;\">\n",
       "      <th></th>\n",
       "      <th>A</th>\n",
       "      <th>B</th>\n",
       "      <th>C</th>\n",
       "      <th>D</th>\n",
       "    </tr>\n",
       "  </thead>\n",
       "  <tbody>\n",
       "    <tr>\n",
       "      <th>0</th>\n",
       "      <td>foo</td>\n",
       "      <td>one</td>\n",
       "      <td>-0.281456</td>\n",
       "      <td>-0.620699</td>\n",
       "    </tr>\n",
       "    <tr>\n",
       "      <th>1</th>\n",
       "      <td>bar</td>\n",
       "      <td>one</td>\n",
       "      <td>-2.342023</td>\n",
       "      <td>0.872582</td>\n",
       "    </tr>\n",
       "    <tr>\n",
       "      <th>2</th>\n",
       "      <td>foo</td>\n",
       "      <td>two</td>\n",
       "      <td>0.452334</td>\n",
       "      <td>-0.390979</td>\n",
       "    </tr>\n",
       "    <tr>\n",
       "      <th>3</th>\n",
       "      <td>bar</td>\n",
       "      <td>three</td>\n",
       "      <td>-2.222311</td>\n",
       "      <td>0.246706</td>\n",
       "    </tr>\n",
       "    <tr>\n",
       "      <th>4</th>\n",
       "      <td>foo</td>\n",
       "      <td>two</td>\n",
       "      <td>-1.454696</td>\n",
       "      <td>0.697422</td>\n",
       "    </tr>\n",
       "    <tr>\n",
       "      <th>5</th>\n",
       "      <td>bar</td>\n",
       "      <td>two</td>\n",
       "      <td>1.163179</td>\n",
       "      <td>0.076852</td>\n",
       "    </tr>\n",
       "    <tr>\n",
       "      <th>6</th>\n",
       "      <td>foo</td>\n",
       "      <td>one</td>\n",
       "      <td>0.181060</td>\n",
       "      <td>2.338294</td>\n",
       "    </tr>\n",
       "    <tr>\n",
       "      <th>7</th>\n",
       "      <td>foo</td>\n",
       "      <td>three</td>\n",
       "      <td>-0.135361</td>\n",
       "      <td>2.389780</td>\n",
       "    </tr>\n",
       "  </tbody>\n",
       "</table>\n",
       "</div>"
      ],
      "text/plain": [
       "     A      B         C         D\n",
       "0  foo    one -0.281456 -0.620699\n",
       "1  bar    one -2.342023  0.872582\n",
       "2  foo    two  0.452334 -0.390979\n",
       "3  bar  three -2.222311  0.246706\n",
       "4  foo    two -1.454696  0.697422\n",
       "5  bar    two  1.163179  0.076852\n",
       "6  foo    one  0.181060  2.338294\n",
       "7  foo  three -0.135361  2.389780"
      ]
     },
     "execution_count": 81,
     "metadata": {},
     "output_type": "execute_result"
    }
   ],
   "source": [
    "gdf = pd.DataFrame({'A' : ['foo', 'bar', 'foo', 'bar',\n",
    "                          'foo', 'bar', 'foo', 'foo'],\n",
    "                    'B' : ['one', 'one', 'two', 'three',\n",
    "                           'two', 'two', 'one', 'three'],\n",
    "                    'C' : np.random.randn(8),\n",
    "                    'D' : np.random.randn(8)})\n",
    "gdf"
   ]
  },
  {
   "cell_type": "code",
   "execution_count": 82,
   "metadata": {},
   "outputs": [
    {
     "name": "stderr",
     "output_type": "stream",
     "text": [
      "/tmp/ipykernel_623/2296005771.py:3: FutureWarning: The default value of numeric_only in DataFrameGroupBy.sum is deprecated. In a future version, numeric_only will default to False. Either specify numeric_only or select only columns which should be valid for the function.\n",
      "  gdf.groupby('A').sum()\n"
     ]
    },
    {
     "data": {
      "text/html": [
       "<div>\n",
       "<style scoped>\n",
       "    .dataframe tbody tr th:only-of-type {\n",
       "        vertical-align: middle;\n",
       "    }\n",
       "\n",
       "    .dataframe tbody tr th {\n",
       "        vertical-align: top;\n",
       "    }\n",
       "\n",
       "    .dataframe thead th {\n",
       "        text-align: right;\n",
       "    }\n",
       "</style>\n",
       "<table border=\"1\" class=\"dataframe\">\n",
       "  <thead>\n",
       "    <tr style=\"text-align: right;\">\n",
       "      <th></th>\n",
       "      <th>C</th>\n",
       "      <th>D</th>\n",
       "    </tr>\n",
       "    <tr>\n",
       "      <th>A</th>\n",
       "      <th></th>\n",
       "      <th></th>\n",
       "    </tr>\n",
       "  </thead>\n",
       "  <tbody>\n",
       "    <tr>\n",
       "      <th>bar</th>\n",
       "      <td>-3.401155</td>\n",
       "      <td>1.196140</td>\n",
       "    </tr>\n",
       "    <tr>\n",
       "      <th>foo</th>\n",
       "      <td>-1.238118</td>\n",
       "      <td>4.413819</td>\n",
       "    </tr>\n",
       "  </tbody>\n",
       "</table>\n",
       "</div>"
      ],
      "text/plain": [
       "            C         D\n",
       "A                      \n",
       "bar -3.401155  1.196140\n",
       "foo -1.238118  4.413819"
      ]
     },
     "execution_count": 82,
     "metadata": {},
     "output_type": "execute_result"
    }
   ],
   "source": [
    "# Grouping and then applying the sum() \n",
    "# function to the resulting groups (effective only where number are there).\n",
    "gdf.groupby('A').sum()"
   ]
  },
  {
   "cell_type": "markdown",
   "metadata": {},
   "source": [
    "## Multi-indexing\n",
    "\n",
    "\n",
    "Hierarchical / Multi-level indexing allows sophisticated data analysis on higher dimensional data. In essence, it enables you to store and manipulate data with an arbitrary number of dimensions in lower dimensional data structures like Series (1d) and DataFrame (2d)."
   ]
  },
  {
   "cell_type": "code",
   "execution_count": 83,
   "metadata": {},
   "outputs": [
    {
     "name": "stdout",
     "output_type": "stream",
     "text": [
      "MultiIndex([('bar', 'one'),\n",
      "            ('bar', 'two'),\n",
      "            ('baz', 'one'),\n",
      "            ('baz', 'two'),\n",
      "            ('foo', 'one'),\n",
      "            ('foo', 'two'),\n",
      "            ('qux', 'one'),\n",
      "            ('qux', 'two')],\n",
      "           names=['first', 'second']) \n",
      "\n",
      "first  second\n",
      "bar    one       0.578890\n",
      "       two       0.215244\n",
      "baz    one      -0.196659\n",
      "       two       0.518622\n",
      "foo    one      -0.802649\n",
      "       two      -0.513082\n",
      "qux    one       0.692559\n",
      "       two      -1.553294\n",
      "dtype: float64\n"
     ]
    }
   ],
   "source": [
    "tuples = list(zip(['bar', 'bar', 'baz', 'baz', 'foo', 'foo', 'qux', 'qux'],\n",
    "          ['one', 'two', 'one', 'two', 'one', 'two', 'one', 'two']))\n",
    "multi_index = pd.MultiIndex.from_tuples(tuples, names=['first', 'second'])\n",
    "print (multi_index,'\\n')\n",
    "\n",
    "s = pd.Series(np.random.randn(8), index=multi_index)\n",
    "print (s)\n"
   ]
  },
  {
   "cell_type": "code",
   "execution_count": 84,
   "metadata": {},
   "outputs": [
    {
     "data": {
      "text/html": [
       "<div>\n",
       "<style scoped>\n",
       "    .dataframe tbody tr th:only-of-type {\n",
       "        vertical-align: middle;\n",
       "    }\n",
       "\n",
       "    .dataframe tbody tr th {\n",
       "        vertical-align: top;\n",
       "    }\n",
       "\n",
       "    .dataframe thead th {\n",
       "        text-align: right;\n",
       "    }\n",
       "</style>\n",
       "<table border=\"1\" class=\"dataframe\">\n",
       "  <thead>\n",
       "    <tr style=\"text-align: right;\">\n",
       "      <th></th>\n",
       "      <th></th>\n",
       "      <th>C</th>\n",
       "      <th>D</th>\n",
       "    </tr>\n",
       "    <tr>\n",
       "      <th>A</th>\n",
       "      <th>B</th>\n",
       "      <th></th>\n",
       "      <th></th>\n",
       "    </tr>\n",
       "  </thead>\n",
       "  <tbody>\n",
       "    <tr>\n",
       "      <th rowspan=\"3\" valign=\"top\">bar</th>\n",
       "      <th>one</th>\n",
       "      <td>-2.342023</td>\n",
       "      <td>0.872582</td>\n",
       "    </tr>\n",
       "    <tr>\n",
       "      <th>three</th>\n",
       "      <td>-2.222311</td>\n",
       "      <td>0.246706</td>\n",
       "    </tr>\n",
       "    <tr>\n",
       "      <th>two</th>\n",
       "      <td>1.163179</td>\n",
       "      <td>0.076852</td>\n",
       "    </tr>\n",
       "    <tr>\n",
       "      <th rowspan=\"3\" valign=\"top\">foo</th>\n",
       "      <th>one</th>\n",
       "      <td>-0.100395</td>\n",
       "      <td>1.717595</td>\n",
       "    </tr>\n",
       "    <tr>\n",
       "      <th>three</th>\n",
       "      <td>-0.135361</td>\n",
       "      <td>2.389780</td>\n",
       "    </tr>\n",
       "    <tr>\n",
       "      <th>two</th>\n",
       "      <td>-1.002362</td>\n",
       "      <td>0.306444</td>\n",
       "    </tr>\n",
       "  </tbody>\n",
       "</table>\n",
       "</div>"
      ],
      "text/plain": [
       "                  C         D\n",
       "A   B                        \n",
       "bar one   -2.342023  0.872582\n",
       "    three -2.222311  0.246706\n",
       "    two    1.163179  0.076852\n",
       "foo one   -0.100395  1.717595\n",
       "    three -0.135361  2.389780\n",
       "    two   -1.002362  0.306444"
      ]
     },
     "execution_count": 84,
     "metadata": {},
     "output_type": "execute_result"
    }
   ],
   "source": [
    "# it enables further features of the groupby method,\n",
    "# e.g. when group-by by multiple columns\n",
    "gdf.groupby(['A','B']).sum()"
   ]
  },
  {
   "cell_type": "code",
   "execution_count": 85,
   "metadata": {},
   "outputs": [
    {
     "data": {
      "text/plain": [
       "A    B       \n",
       "bar  one    C   -2.342023\n",
       "            D    0.872582\n",
       "     three  C   -2.222311\n",
       "            D    0.246706\n",
       "     two    C    1.163179\n",
       "            D    0.076852\n",
       "foo  one    C   -0.100395\n",
       "            D    1.717595\n",
       "     three  C   -0.135361\n",
       "            D    2.389780\n",
       "     two    C   -1.002362\n",
       "            D    0.306444\n",
       "dtype: float64"
      ]
     },
     "execution_count": 85,
     "metadata": {},
     "output_type": "execute_result"
    }
   ],
   "source": [
    "# stack() method “compresses” a level in the DataFrame’s columns\n",
    "gdf.groupby(['A','B']).sum().stack()"
   ]
  },
  {
   "cell_type": "markdown",
   "metadata": {},
   "source": [
    "## Plotting\n",
    "\n",
    "Just a preview, more on the next lab class!"
   ]
  },
  {
   "cell_type": "code",
   "execution_count": 86,
   "metadata": {},
   "outputs": [
    {
     "data": {
      "text/plain": [
       "<AxesSubplot: >"
      ]
     },
     "execution_count": 86,
     "metadata": {},
     "output_type": "execute_result"
    },
    {
     "data": {
      "image/png": "[encoded data removed]",
      "text/plain": [
       "<Figure size 640x480 with 1 Axes>"
      ]
     },
     "metadata": {},
     "output_type": "display_data"
    }
   ],
   "source": [
    "ts = pd.Series(np.random.randn(1000), index=pd.date_range('1/1/2000', periods=1000))\n",
    "ts.cumsum().plot()"
   ]
  },
  {
   "cell_type": "code",
   "execution_count": 87,
   "metadata": {},
   "outputs": [
    {
     "data": {
      "text/plain": [
       "<matplotlib.legend.Legend at 0x7f4fbb742160>"
      ]
     },
     "execution_count": 87,
     "metadata": {},
     "output_type": "execute_result"
    },
    {
     "data": {
      "text/plain": [
       "<Figure size 640x480 with 0 Axes>"
      ]
     },
     "metadata": {},
     "output_type": "display_data"
    },
    {
     "data": {
      "image/png": "[encoded data removed]",
      "text/plain": [
       "<Figure size 640x480 with 1 Axes>"
      ]
     },
     "metadata": {},
     "output_type": "display_data"
    }
   ],
   "source": [
    "import matplotlib.pyplot as plt\n",
    "\n",
    "pdf=pd.DataFrame(np.random.randn(1000, 4), index=ts.index,columns=['A', 'B', 'C', 'D'])\n",
    "pdf = pdf.cumsum()\n",
    "plt.figure(); pdf.plot(); plt.legend(loc='best')"
   ]
  },
  {
   "cell_type": "code",
   "execution_count": null,
   "metadata": {},
   "outputs": [],
   "source": []
  }
 ],
 "metadata": {
  "kernelspec": {
   "display_name": "Python 3 (ipykernel)",
   "language": "python",
   "name": "python3"
  },
  "language_info": {
   "codemirror_mode": {
    "name": "ipython",
    "version": 3
   },
   "file_extension": ".py",
   "mimetype": "text/x-python",
   "name": "python",
   "nbconvert_exporter": "python",
   "pygments_lexer": "ipython3",
   "version": "3.9.5"
  }
 },
 "nbformat": 4,
 "nbformat_minor": 2
}

{
 "cells": [
  {
   "cell_type": "markdown",
   "metadata": {},
   "source": [
    "### Numpy basics"
   ]
  },
  {
   "cell_type": "markdown",
   "metadata": {},
   "source": [
    "1\\. Find the row, column and overall means for the following matrix:\n",
    "\n",
    "```python\n",
    "m = np.arange(12).reshape((3,4))\n",
    "```"
   ]
  },
  {
   "cell_type": "code",
   "execution_count": 45,
   "metadata": {},
   "outputs": [
    {
     "name": "stdout",
     "output_type": "stream",
     "text": [
      "[[ 0  1  2  3]\n",
      " [ 4  5  6  7]\n",
      " [ 8  9 10 11]]\n",
      "[4. 5. 6. 7.]\n",
      "[4. 5. 6. 7.]\n",
      "[1.5 5.5 9.5]\n",
      "5.5\n"
     ]
    }
   ],
   "source": [
    "import numpy as np\n",
    "\n",
    "m = np.arange(12).reshape((3,4))\n",
    "print(m)\n",
    "print(np.average(m, axis = 0))\n",
    "print(np.average(m, axis = 1))\n",
    "print(np.average(m))"
   ]
  },
  {
   "cell_type": "markdown",
   "metadata": {},
   "source": [
    "2\\. Find the outer product of the following two vecotrs\n",
    "\n",
    "```python\n",
    "u = np.array([1,3,5,7])\n",
    "v = np.array([2,4,6,8])\n",
    "```\n",
    "\n",
    "Do this in the following ways:\n",
    "\n",
    "   * Using the function outer in numpy\n",
    "   * Using a nested for loop or list comprehension\n",
    "   * Using numpy broadcasting operatoins\n"
   ]
  },
  {
   "cell_type": "code",
   "execution_count": 56,
   "metadata": {},
   "outputs": [
    {
     "name": "stdout",
     "output_type": "stream",
     "text": [
      "[[ 2  4  6  8]\n",
      " [ 6 12 18 24]\n",
      " [10 20 30 40]\n",
      " [14 28 42 56]]\n",
      "[[ 2.  4.  6.  8.]\n",
      " [ 6. 12. 18. 24.]\n",
      " [10. 20. 30. 40.]\n",
      " [14. 28. 42. 56.]]\n",
      "[[ 2  4  6  8]\n",
      " [ 6 12 18 24]\n",
      " [10 20 30 40]\n",
      " [14 28 42 56]]\n"
     ]
    }
   ],
   "source": [
    "u = np.array([1,3,5,7])\n",
    "v = np.array([2,4,6,8])\n",
    "\n",
    "print(np.outer(u,v))\n",
    "\n",
    "tmp = np.zeros((4,4))\n",
    "for i in range(u.shape[0]):\n",
    "    for j in range(v.shape[0]):\n",
    "        tmp[i][j] = u[i]*v[j]\n",
    "        \n",
    "print(tmp)\n",
    "\n",
    "u = u.reshape(u.shape[0], 1)\n",
    "print(u * v)\n"
   ]
  },
  {
   "cell_type": "markdown",
   "metadata": {},
   "source": [
    "3\\. Create a 10 by 6 matrix of random uniform numbers. Set all rows with any entry less than 0.1 to be zero\n",
    "\n",
    "Hint: Use the following numpy functions - np.random.random, np.any as well as Boolean indexing and the axis argument."
   ]
  },
  {
   "cell_type": "code",
   "execution_count": 66,
   "metadata": {},
   "outputs": [
    {
     "name": "stdout",
     "output_type": "stream",
     "text": [
      "[[0.46937141 0.92957468 0.38226402 0.97426664 0.84016784 0.6192295 ]\n",
      " [0.44876184 0.99985503 0.50337743 0.41826698 0.92246564 0.71622093]\n",
      " [0.33069855 0.81546163 0.69311628 0.69072311 0.82496944 0.46049635]\n",
      " [0.99349236 0.9374351  0.70093433 0.36441867 0.62508159 0.01932504]\n",
      " [0.65387014 0.44789197 0.15674161 0.12701529 0.0101287  0.03872021]\n",
      " [0.11390061 0.7868132  0.89998696 0.97790595 0.6659318  0.70003817]\n",
      " [0.11301489 0.31007357 0.38722079 0.9649079  0.13593053 0.71396124]\n",
      " [0.95819706 0.4305334  0.59309651 0.14139654 0.6763303  0.72403613]\n",
      " [0.60306823 0.24138791 0.35189689 0.17402843 0.33022067 0.55800218]\n",
      " [0.38834767 0.52713421 0.61043739 0.09805808 0.51574218 0.30662941]] (10, 6)\n",
      "\n",
      " [0.46937141 0.92957468 0.38226402 0.97426664 0.84016784 0.6192295\n",
      " 0.44876184 0.99985503 0.50337743 0.41826698 0.92246564 0.71622093\n",
      " 0.33069855 0.81546163 0.69311628 0.69072311 0.82496944 0.46049635\n",
      " 0.99349236 0.9374351  0.70093433 0.36441867 0.62508159 0.65387014\n",
      " 0.44789197 0.15674161 0.12701529 0.11390061 0.7868132  0.89998696\n",
      " 0.97790595 0.6659318  0.70003817 0.11301489 0.31007357 0.38722079\n",
      " 0.9649079  0.13593053 0.71396124 0.95819706 0.4305334  0.59309651\n",
      " 0.14139654 0.6763303  0.72403613 0.60306823 0.24138791 0.35189689\n",
      " 0.17402843 0.33022067 0.55800218 0.38834767 0.52713421 0.61043739\n",
      " 0.51574218 0.30662941] (56,)\n",
      "\n",
      " [[0.46937141 0.92957468 0.38226402 0.97426664 0.84016784 0.6192295 ]\n",
      " [0.44876184 0.99985503 0.50337743 0.41826698 0.92246564 0.71622093]\n",
      " [0.33069855 0.81546163 0.69311628 0.69072311 0.82496944 0.46049635]\n",
      " [0.99349236 0.9374351  0.70093433 0.36441867 0.62508159 0.        ]\n",
      " [0.65387014 0.44789197 0.15674161 0.12701529 0.         0.        ]\n",
      " [0.11390061 0.7868132  0.89998696 0.97790595 0.6659318  0.70003817]\n",
      " [0.11301489 0.31007357 0.38722079 0.9649079  0.13593053 0.71396124]\n",
      " [0.95819706 0.4305334  0.59309651 0.14139654 0.6763303  0.72403613]\n",
      " [0.60306823 0.24138791 0.35189689 0.17402843 0.33022067 0.55800218]\n",
      " [0.38834767 0.52713421 0.61043739 0.         0.51574218 0.30662941]] (10, 6)\n"
     ]
    }
   ],
   "source": [
    "matrix = np.random.rand(10,6)\n",
    "print(matrix, matrix.shape)\n",
    "\n",
    "print(\"\\n\", matrix[matrix > 0.1], matrix[matrix > 0.1].shape) #NO GOOD!\n",
    "\n",
    "x = matrix > 0.1\n",
    "a = matrix * x\n",
    "print(\"\\n\", a, a.shape) #GOOD!"
   ]
  },
  {
   "cell_type": "markdown",
   "metadata": {},
   "source": [
    "4\\. Use np.linspace to create an array of 100 numbers between 0 and 2π (includsive).\n",
    "\n",
    "  * Extract every 10th element using slice notation\n",
    "  * Reverse the array using slice notation\n",
    "  * Extract elements where the absolute difference between the sine and cosine functions evaluated at that element is less than 0.1\n",
    "  * Make a plot showing the sin and cos functions and indicate where they are close"
   ]
  },
  {
   "cell_type": "code",
   "execution_count": 79,
   "metadata": {},
   "outputs": [
    {
     "name": "stdout",
     "output_type": "stream",
     "text": [
      "Matrix: [0.         0.06346652 0.12693304 0.19039955 0.25386607 0.31733259\n",
      " 0.38079911 0.44426563 0.50773215 0.57119866 0.63466518 0.6981317\n",
      " 0.76159822 0.82506474 0.88853126 0.95199777 1.01546429 1.07893081\n",
      " 1.14239733 1.20586385 1.26933037 1.33279688 1.3962634  1.45972992\n",
      " 1.52319644 1.58666296 1.65012947 1.71359599 1.77706251 1.84052903\n",
      " 1.90399555 1.96746207 2.03092858 2.0943951  2.15786162 2.22132814\n",
      " 2.28479466 2.34826118 2.41172769 2.47519421 2.53866073 2.60212725\n",
      " 2.66559377 2.72906028 2.7925268  2.85599332 2.91945984 2.98292636\n",
      " 3.04639288 3.10985939 3.17332591 3.23679243 3.30025895 3.36372547\n",
      " 3.42719199 3.4906585  3.55412502 3.61759154 3.68105806 3.74452458\n",
      " 3.8079911  3.87145761 3.93492413 3.99839065 4.06185717 4.12532369\n",
      " 4.1887902  4.25225672 4.31572324 4.37918976 4.44265628 4.5061228\n",
      " 4.56958931 4.63305583 4.69652235 4.75998887 4.82345539 4.88692191\n",
      " 4.95038842 5.01385494 5.07732146 5.14078798 5.2042545  5.26772102\n",
      " 5.33118753 5.39465405 5.45812057 5.52158709 5.58505361 5.64852012\n",
      " 5.71198664 5.77545316 5.83891968 5.9023862  5.96585272 6.02931923\n",
      " 6.09278575 6.15625227 6.21971879 6.28318531] \n",
      "\n",
      "Matrix every 10: [0.         0.63466518 1.26933037 1.90399555 2.53866073 3.17332591\n",
      " 3.8079911  4.44265628 5.07732146 5.71198664] \n",
      "\n",
      "Reversed matrix: [6.28318531 6.21971879 6.15625227 6.09278575 6.02931923 5.96585272\n",
      " 5.9023862  5.83891968 5.77545316 5.71198664 5.64852012 5.58505361\n",
      " 5.52158709 5.45812057 5.39465405 5.33118753 5.26772102 5.2042545\n",
      " 5.14078798 5.07732146 5.01385494 4.95038842 4.88692191 4.82345539\n",
      " 4.75998887 4.69652235 4.63305583 4.56958931 4.5061228  4.44265628\n",
      " 4.37918976 4.31572324 4.25225672 4.1887902  4.12532369 4.06185717\n",
      " 3.99839065 3.93492413 3.87145761 3.8079911  3.74452458 3.68105806\n",
      " 3.61759154 3.55412502 3.4906585  3.42719199 3.36372547 3.30025895\n",
      " 3.23679243 3.17332591 3.10985939 3.04639288 2.98292636 2.91945984\n",
      " 2.85599332 2.7925268  2.72906028 2.66559377 2.60212725 2.53866073\n",
      " 2.47519421 2.41172769 2.34826118 2.28479466 2.22132814 2.15786162\n",
      " 2.0943951  2.03092858 1.96746207 1.90399555 1.84052903 1.77706251\n",
      " 1.71359599 1.65012947 1.58666296 1.52319644 1.45972992 1.3962634\n",
      " 1.33279688 1.26933037 1.20586385 1.14239733 1.07893081 1.01546429\n",
      " 0.95199777 0.88853126 0.82506474 0.76159822 0.6981317  0.63466518\n",
      " 0.57119866 0.50773215 0.44426563 0.38079911 0.31733259 0.25386607\n",
      " 0.19039955 0.12693304 0.06346652] \n",
      "\n",
      "Trigon on matrix: [0.         0.06346652 0.12693304 0.19039955 0.25386607 0.31733259\n",
      " 0.38079911 0.44426563 0.50773215 0.57119866 0.63466518 0.6981317\n",
      " 0.76159822 0.82506474 3.87145761 3.93492413 3.99839065 4.06185717\n",
      " 4.12532369 4.1887902  4.25225672 4.31572324 4.37918976 4.44265628\n",
      " 4.5061228  4.56958931 4.63305583 4.69652235 4.75998887 4.82345539\n",
      " 4.88692191 4.95038842 5.01385494 5.07732146 5.14078798 5.2042545\n",
      " 5.26772102 5.33118753 5.39465405 5.45812057 5.52158709 5.58505361\n",
      " 5.64852012 5.71198664 5.77545316 5.83891968 5.9023862  5.96585272\n",
      " 6.02931923 6.09278575 6.15625227 6.21971879 6.28318531]\n"
     ]
    }
   ],
   "source": [
    "import math\n",
    "\n",
    "m = np.linspace(0, 2*math.pi, 100)\n",
    "print(\"Matrix:\", m, \"\\n\")\n",
    "\n",
    "print(\"Matrix every 10:\",m[::10], \"\\n\")\n",
    "\n",
    "print(\"Reversed matrix:\",m[m.shape[0]:0:-1], \"\\n\")\n",
    "\n",
    "print(\"Trigon on matrix:\",m[np.sin(m) - np.cos(m) < 0.1])\n",
    "\n"
   ]
  },
  {
   "cell_type": "markdown",
   "metadata": {},
   "source": [
    "5\\. Create a matrix that shows the 10 by 10 multiplication table.\n",
    "\n",
    " * Find the trace of the matrix\n",
    " * Extract the anto-diagonal (this should be ```array([10, 18, 24, 28, 30, 30, 28, 24, 18, 10])```)\n",
    " * Extract the diagnoal offset by 1 upwards (this should be ```array([ 2,  6, 12, 20, 30, 42, 56, 72, 90])```)"
   ]
  },
  {
   "cell_type": "code",
   "execution_count": 26,
   "metadata": {},
   "outputs": [
    {
     "name": "stdout",
     "output_type": "stream",
     "text": [
      "[[  1.   2.   3.   4.   5.   6.   7.   8.   9.  10.]\n",
      " [  2.   4.   6.   8.  10.  12.  14.  16.  18.  20.]\n",
      " [  3.   6.   9.  12.  15.  18.  21.  24.  27.  30.]\n",
      " [  4.   8.  12.  16.  20.  24.  28.  32.  36.  40.]\n",
      " [  5.  10.  15.  20.  25.  30.  35.  40.  45.  50.]\n",
      " [  6.  12.  18.  24.  30.  36.  42.  48.  54.  60.]\n",
      " [  7.  14.  21.  28.  35.  42.  49.  56.  63.  70.]\n",
      " [  8.  16.  24.  32.  40.  48.  56.  64.  72.  80.]\n",
      " [  9.  18.  27.  36.  45.  54.  63.  72.  81.  90.]\n",
      " [ 10.  20.  30.  40.  50.  60.  70.  80.  90. 100.]]\n",
      "385.0\n",
      "[  1.   4.   9.  16.  25.  36.  49.  64.  81. 100.]\n",
      "[10. 18. 24. 28. 30. 30. 28. 24. 18. 10.]\n"
     ]
    }
   ],
   "source": [
    "import numpy as np\n",
    "a = np.fromfunction(lambda i,j: (i+1)*(j+1), (10,10))\n",
    "print(a)\n",
    "\n",
    "print(a.trace())\n",
    "\n",
    "print(np.diag(a, k=0))\n",
    "\n",
    "print(np.diag(np.fliplr(a)))"
   ]
  },
  {
   "cell_type": "markdown",
   "metadata": {},
   "source": [
    "6\\. Use broadcasting to create a grid of distances\n",
    "\n",
    "Route 66 crosses the following cities in the US: Chicago, Springfield, Saint-Louis, Tulsa, Oklahoma City, Amarillo, Santa Fe, Albuquerque, Flagstaff, Los Angeles\n",
    "The corresponding positions in miles are: 0, 198, 303, 736, 871, 1175, 1475, 1544, 1913, 2448\n",
    "\n",
    "  * Construct a 2D grid of distances among each city along Route 66\n",
    "  * Convert that in km (those savages...)"
   ]
  },
  {
   "cell_type": "code",
   "execution_count": 41,
   "metadata": {},
   "outputs": [
    {
     "name": "stdout",
     "output_type": "stream",
     "text": [
      "[[   0  198  303  736  871 1175 1475 1544 1913 2448]\n",
      " [ 198  396  501  934 1069 1373 1673 1742 2111 2646]\n",
      " [ 303  501  606 1039 1174 1478 1778 1847 2216 2751]\n",
      " [ 736  934 1039 1472 1607 1911 2211 2280 2649 3184]\n",
      " [ 871 1069 1174 1607 1742 2046 2346 2415 2784 3319]\n",
      " [1175 1373 1478 1911 2046 2350 2650 2719 3088 3623]\n",
      " [1475 1673 1778 2211 2346 2650 2950 3019 3388 3923]\n",
      " [1544 1742 1847 2280 2415 2719 3019 3088 3457 3992]\n",
      " [1913 2111 2216 2649 2784 3088 3388 3457 3826 4361]\n",
      " [2448 2646 2751 3184 3319 3623 3923 3992 4361 4896]]\n",
      "[[   0.   316.8  484.8 1177.6 1393.6 1880.  2360.  2470.4 3060.8 3916.8]\n",
      " [ 316.8  633.6  801.6 1494.4 1710.4 2196.8 2676.8 2787.2 3377.6 4233.6]\n",
      " [ 484.8  801.6  969.6 1662.4 1878.4 2364.8 2844.8 2955.2 3545.6 4401.6]\n",
      " [1177.6 1494.4 1662.4 2355.2 2571.2 3057.6 3537.6 3648.  4238.4 5094.4]\n",
      " [1393.6 1710.4 1878.4 2571.2 2787.2 3273.6 3753.6 3864.  4454.4 5310.4]\n",
      " [1880.  2196.8 2364.8 3057.6 3273.6 3760.  4240.  4350.4 4940.8 5796.8]\n",
      " [2360.  2676.8 2844.8 3537.6 3753.6 4240.  4720.  4830.4 5420.8 6276.8]\n",
      " [2470.4 2787.2 2955.2 3648.  3864.  4350.4 4830.4 4940.8 5531.2 6387.2]\n",
      " [3060.8 3377.6 3545.6 4238.4 4454.4 4940.8 5420.8 5531.2 6121.6 6977.6]\n",
      " [3916.8 4233.6 4401.6 5094.4 5310.4 5796.8 6276.8 6387.2 6977.6 7833.6]]\n"
     ]
    }
   ],
   "source": [
    "a = np.array([0, 198, 303, 736, 871, 1175, 1475, 1544, 1913, 2448])\n",
    "b = a.reshape(a.shape[0],1)\n",
    "c = a + b\n",
    "print(c)\n",
    "\n",
    "c = c * 1.6\n",
    "print(c)"
   ]
  },
  {
   "cell_type": "markdown",
   "metadata": {},
   "source": [
    "7\\. Prime numbers sieve: compute the prime numbers in the 0-N (N=99 to start with) range with a sieve (mask).\n",
    "  * Constract a shape (100,) boolean array, the mask\n",
    "  * Identify the multiples of each number starting from 2 and set accordingly the corresponding mask element\n",
    "  * Apply the mask to obtain an array of ordered prime numbers\n",
    "  * Check the performances (timeit); how does it scale with N?\n",
    "  * Implement the optimization suggested in the [sieve of Eratosthenes](https://en.wikipedia.org/wiki/Sieve_of_Eratosthenes)"
   ]
  },
  {
   "cell_type": "code",
   "execution_count": 19,
   "metadata": {},
   "outputs": [
    {
     "name": "stdout",
     "output_type": "stream",
     "text": [
      "<class 'list'>\n",
      "[1.04427338e-04 1.79028511e-03 2.88019180e-02 1.71049118e-01]\n"
     ]
    }
   ],
   "source": [
    "import numpy as np\n",
    "import time\n",
    "\n",
    "N = np.arange(2,6)\n",
    "N = N.tolist()\n",
    "print(type(N))\n",
    "times = []\n",
    "\n",
    "# Erathosthenes version\n",
    "for exp in N:\n",
    "    max = 10**exp\n",
    "    m = np.ones(max, 'bool')\n",
    "    \n",
    "    start_time = time.time()\n",
    "    m[0] = m[1] = False\n",
    "    for i in range(2, max//2):\n",
    "        j = 2\n",
    "        while j*i < max:\n",
    "            m[j*i] = False\n",
    "            j += 1\n",
    "    times.append(time.time() - start_time)\n",
    "        \n",
    "t = np.array(times)\n",
    "N = np.array(N)\n",
    "print(t)\n",
    "        \n",
    "a = np.arange(0, 1000)"
   ]
  },
  {
   "cell_type": "markdown",
   "metadata": {},
   "source": [
    "**N.B. the following exercises are meant to be solved only if you are familiar with the numpy random library. If not you can skip them (postponed for one of the next exercise sessions)**\n"
   ]
  },
  {
   "cell_type": "markdown",
   "metadata": {},
   "source": [
    "8\\. Diffusion using random walk\n",
    "\n",
    "Consider a simple random walk process: at each step in time, a walker jumps right or left (+1 or -1) with equal probability. The goal is to find the typical distance from the origin of a random walker after a given amount of time. \n",
    "To do that, let's simulate many walkers and create a 2D array with each walker as a raw and the actual time evolution as columns\n",
    "\n",
    "  * Take 1000 walkers and let them walk for 200 steps\n",
    "  * Use randint to create a 2D array of size walkers x steps with values -1 or 1\n",
    "  * Build the actual walking distances for each walker (i.e. another 2D array \"summing on each raw\")\n",
    "  * Take the square of that 2D array (elementwise)\n",
    "  * Compute the mean of the squared distances at each step (i.e. the mean along the columns)\n",
    "  * Plot the average distances (sqrt(distance\\*\\*2)) as a function of time (step)\n",
    "  \n",
    "Did you get what you expected?"
   ]
  },
  {
   "cell_type": "code",
   "execution_count": 41,
   "metadata": {},
   "outputs": [
    {
     "name": "stdout",
     "output_type": "stream",
     "text": [
      "[[ 1 -1  1 ... -1  1 -1]\n",
      " [-1 -1  1 ...  1 -1  1]\n",
      " [ 1  1 -1 ... -1 -1 -1]\n",
      " ...\n",
      " [ 1  1 -1 ...  1  1 -1]\n",
      " [-1 -1 -1 ... -1  1 -1]\n",
      " [ 1 -1  1 ...  1 -1 -1]]\n",
      "(1000, 200)\n",
      "0.02677\n",
      "[[   1    0    1 ...   16    9   16]\n",
      " [   1    4    1 ... 1024  961 1024]\n",
      " [   1    4    1 ...    4    9   16]\n",
      " ...\n",
      " [   1    4    1 ...  256  225  256]\n",
      " [   1    4    9 ...  324  289  324]\n",
      " [   1    0    1 ...  100  121  144]]\n",
      "[  1.      1.936   3.      4.004   5.152   5.96    7.12    8.168   9.24\n",
      "  10.072  10.928  11.9    13.136  14.596  15.568  16.36   17.76   19.212\n",
      "  19.944  20.8    22.     22.5    23.528  25.084  26.488  27.584  28.472\n",
      "  29.556  30.408  31.416  32.512  33.336  34.952  36.484  37.312  37.692\n",
      "  38.336  39.952  40.552  41.564  43.064  43.832  45.056  45.956  47.344\n",
      "  48.128  48.704  49.928  50.52   51.644  51.936  53.072  53.432  54.568\n",
      "  55.736  56.516  57.472  58.196  59.408  59.44   60.608  61.456  62.584\n",
      "  63.876  64.816  66.544  68.032  69.1    68.84   70.1    71.344  72.356\n",
      "  74.512  75.464  76.704  78.224  79.384  80.064  80.312  80.648  82.504\n",
      "  83.216  83.816  84.336  86.136  88.24   89.28   90.256  90.248  91.324\n",
      "  92.008  93.804  95.184  96.468  97.448  97.852  98.504 100.164 100.528\n",
      " 102.288 103.112 104.156 104.512 104.248 106.072 106.564 106.656 108.084\n",
      " 109.56  109.908 111.632 113.872 115.568 117.192 118.616 120.984 121.256\n",
      " 121.568 121.712 124.76  126.112 126.528 128.608 129.836 130.664 132.596\n",
      " 134.216 135.656 135.864 136.248 136.808 138.516 139.304 140.496 142.24\n",
      " 143.384 143.496 143.66  144.424 145.888 147.448 147.416 148.936 149.644\n",
      " 150.752 152.712 153.848 153.776 154.44  156.28  157.328 157.536 159.696\n",
      " 160.564 161.72  162.572 162.616 162.784 164.56  167.    168.72  168.776\n",
      " 170.648 172.528 173.464 174.04  176.856 175.988 177.288 178.024 179.256\n",
      " 181.108 182.408 184.584 185.528 185.936 186.72  185.84  186.72  187.644\n",
      " 189.008 190.388 190.36  192.456 193.488 195.428 196.32  197.716 197.496\n",
      " 198.7   199.424 201.364 202.552 203.104 204.024 203.98  205.96  206.408\n",
      " 207.656 208.776]\n",
      "[  1   2   3   4   5   6   7   8   9  10  11  12  13  14  15  16  17  18\n",
      "  19  20  21  22  23  24  25  26  27  28  29  30  31  32  33  34  35  36\n",
      "  37  38  39  40  41  42  43  44  45  46  47  48  49  50  51  52  53  54\n",
      "  55  56  57  58  59  60  61  62  63  64  65  66  67  68  69  70  71  72\n",
      "  73  74  75  76  77  78  79  80  81  82  83  84  85  86  87  88  89  90\n",
      "  91  92  93  94  95  96  97  98  99 100 101 102 103 104 105 106 107 108\n",
      " 109 110 111 112 113 114 115 116 117 118 119 120 121 122 123 124 125 126\n",
      " 127 128 129 130 131 132 133 134 135 136 137 138 139 140 141 142 143 144\n",
      " 145 146 147 148 149 150 151 152 153 154 155 156 157 158 159 160 161 162\n",
      " 163 164 165 166 167 168 169 170 171 172 173 174 175 176 177 178 179 180\n",
      " 181 182 183 184 185 186 187 188 189 190 191 192 193 194 195 196 197 198\n",
      " 199 200]\n"
     ]
    },
    {
     "data": {
      "text/plain": [
       "<matplotlib.collections.PathCollection at 0x7f2663d6a1f0>"
      ]
     },
     "execution_count": 41,
     "metadata": {},
     "output_type": "execute_result"
    },
    {
     "data": {
      "image/png": "[encoded data removed]",
      "text/plain": [
       "<Figure size 640x480 with 1 Axes>"
      ]
     },
     "metadata": {},
     "output_type": "display_data"
    }
   ],
   "source": [
    "import numpy.random as r\n",
    "walkers = 1000\n",
    "steps = 200\n",
    "\n",
    "g = r.randint(-1, 1, size = (walkers, steps))\n",
    "g *= 2\n",
    "g += 1\n",
    "print(g)\n",
    "\n",
    "g = g.cumsum(axis = 1)\n",
    "print(g.shape)\n",
    "\n",
    "mean = g.mean()\n",
    "print(mean) # ~ 0\n",
    "\n",
    "g **= 2\n",
    "print(g)\n",
    "\n",
    "MSD = g.mean(axis = 0)\n",
    "print(MSD)\n",
    "\n",
    "import matplotlib.pyplot as plt\n",
    "time = np.arange(1, steps+1)\n",
    "print(time)\n",
    "plt.scatter(time, MSD)"
   ]
  },
  {
   "cell_type": "markdown",
   "metadata": {},
   "source": [
    "9\\. Analyze a data file \n",
    "  * Download the population of hares, lynxes and carrots at the beginning of the last century.\n",
    "    ```python\n",
    "    ! wget https://www.dropbox.com/s/3vigxoqayo389uc/populations.txt\n",
    "    ```\n",
    "\n",
    "  * Check the content by looking within the file\n",
    "  * Load the data (use an appropriate numpy method) into a 2D array\n",
    "  * Create arrays out of the columns, the arrays being (in order): *year*, *hares*, *lynxes*, *carrots* \n",
    "  * Plot the 3 populations over the years\n",
    "  * Compute the main statistical properties of the dataset (mean, std, correlations, etc.)\n",
    "  * Which species has the highest population each year?\n",
    "\n",
    "Do you feel there is some evident correlation here? [Studies](https://www.enr.gov.nt.ca/en/services/lynx/lynx-snowshoe-hare-cycle) tend to believe so."
   ]
  },
  {
   "cell_type": "code",
   "execution_count": 76,
   "metadata": {},
   "outputs": [
    {
     "name": "stdout",
     "output_type": "stream",
     "text": [
      "[[ 1900 30000  4000 48300]\n",
      " [ 1901 47200  6100 48200]\n",
      " [ 1902  4664  9800 41500]\n",
      " [ 1903 11864 35200 38200]\n",
      " [ 1904 36300 59400 40600]\n",
      " [ 1905 20600 41700 39800]\n",
      " [ 1906 18100 19000 38600]\n",
      " [ 1907 21400 13000 42300]\n",
      " [ 1908 22000  8300 44500]\n",
      " [ 1909 25400  9100 42100]\n",
      " [ 1910 27100  7400 46000]\n",
      " [ 1911 40300  8000 46800]\n",
      " [ 1912 57000 12300 43800]\n",
      " [ 1913 11064 19500 40900]\n",
      " [ 1914 52300 45700 39400]\n",
      " [ 1915 19500 51100 39000]\n",
      " [ 1916 11200 29700 36700]\n",
      " [ 1917  7600 15800 41800]\n",
      " [ 1918 14600  9700 43300]\n",
      " [ 1919 16200 10100 41300]\n",
      " [ 1920 24700  8600 47300]]\n"
     ]
    },
    {
     "data": {
      "image/png": "[encoded data removed]",
      "text/plain": [
       "<Figure size 640x480 with 1 Axes>"
      ]
     },
     "metadata": {},
     "output_type": "display_data"
    },
    {
     "name": "stdout",
     "output_type": "stream",
     "text": [
      "[24718.66666667 20166.66666667 42400.        ] [14192.90126162 16254.59153691  3322.50622558]\n",
      "['carrot' 'carrot' 'carrot' 'carrot' 'lynx' 'lynx' 'carrot' 'carrot'\n",
      " 'carrot' 'carrot' 'carrot' 'carrot' 'hare' 'carrot' 'hare' 'lynx'\n",
      " 'carrot' 'carrot' 'carrot' 'carrot' 'carrot']\n"
     ]
    }
   ],
   "source": [
    "#! wget https://www.dropbox.com/s/3vigxoqayo389uc/populations.txt\n",
    "#! cat populations.txt\n",
    "\n",
    "a = np.loadtxt(\"populations.txt\", dtype=np.uint16)\n",
    "print(a)\n",
    "\n",
    "year = a[:,0].copy()\n",
    "hares = a[:,1].copy()\n",
    "lynxes = a[:,2].copy()\n",
    "carrots = a[:,3].copy()\n",
    "\n",
    "fig = plt.figure()\n",
    "ax = fig.add_subplot(1, 1, 1)\n",
    "\n",
    "ax.plot(year, hares, label=\"Hares\")\n",
    "ax.plot(year, lynxes, label=\"Lynxes\")\n",
    "ax.plot(year, carrots, label=\"Carrots\")\n",
    "\n",
    "ax.legend()\n",
    "\n",
    "plt.show()\n",
    "\n",
    "mean = a[:,1:].mean(axis=0)\n",
    "std = a[:,1:].std(axis=0)\n",
    "max = a[:,1:]\n",
    "max = max.argmax(axis=1)\n",
    "\n",
    "species = ['hare', 'lynx', 'carrot']\n",
    "max = np.take(species, max)\n",
    "\n",
    "print(mean, std)\n",
    "print(max)"
   ]
  },
  {
   "cell_type": "code",
   "execution_count": null,
   "metadata": {},
   "outputs": [],
   "source": []
  }
 ],
 "metadata": {
  "kernelspec": {
   "display_name": "Python 3 (ipykernel)",
   "language": "python",
   "name": "python3"
  },
  "language_info": {
   "codemirror_mode": {
    "name": "ipython",
    "version": 3
   },
   "file_extension": ".py",
   "mimetype": "text/x-python",
   "name": "python",
   "nbconvert_exporter": "python",
   "pygments_lexer": "ipython3",
   "version": "3.9.5"
  }
 },
 "nbformat": 4,
 "nbformat_minor": 2
}

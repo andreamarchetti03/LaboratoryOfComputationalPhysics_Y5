{
 "cells": [
  {
   "cell_type": "markdown",
   "metadata": {},
   "source": [
    "1\\. Write a function that converts number representation, bin<->dec<->hex. (Clearly using the corresponding python built-in functions is not fair..)"
   ]
  },
  {
   "cell_type": "code",
   "execution_count": null,
   "metadata": {},
   "outputs": [],
   "source": [
    "def convert(n, _from, _to):\n",
    "    \n",
    "    if(_to == 'dec'):\n",
    "        \n",
    "        x = str(n)\n",
    "        y = 0\n",
    "\n",
    "        if(_from == 'bin'): base = 2\n",
    "        elif(_from == 'hex'): base = 16\n",
    "        else: return x                   # dec to dec case\n",
    "        \n",
    "        for i in range(len(x)):\n",
    "        \n",
    "            y += int(x[i]) * base**(len(x)-i-1)\n",
    "            \n",
    "    elif(_from == 'dec'):\n",
    "        \n",
    "        x = n\n",
    "        y = []\n",
    "        \n",
    "        if(_to == 'bin'): base = 2\n",
    "        elif(_to == 'hex'): base = 16\n",
    "        else: return x                   # dec to dec case\n",
    "            \n",
    "        while(x > 0):\n",
    "            y.append(x % base)\n",
    "            x = x // base\n",
    "            \n",
    "            \n",
    "        y.reverse()\n",
    "        \n",
    "        s = \"\"\n",
    "        for c in y:\n",
    "            if c > 9: c = chr(c + 55)   # conversion into letters\n",
    "            s += str(c)\n",
    "        \n",
    "    return s\n",
    "\n",
    "\n",
    "a = 16\n",
    "\n",
    "print(convert(a, 'dec', 'hex'))"
   ]
  },
  {
   "cell_type": "markdown",
   "metadata": {},
   "source": [
    "2\\. Write a function that converts a 32 bit word into a single precision floating point (i.e. interprets the various bits as sign, mantissa and exponent)"
   ]
  },
  {
   "cell_type": "code",
   "execution_count": 8,
   "metadata": {},
   "outputs": [
    {
     "name": "stdout",
     "output_type": "stream",
     "text": [
      "-2.894802576020222e+76\n"
     ]
    }
   ],
   "source": [
    "def floating(word):\n",
    "    \n",
    "    mask = 0b10000000000000000000000000000000\n",
    "    sign = (word & mask) >> 31\n",
    "    \n",
    "    mask = 0b01111111100000000000000000000000\n",
    "    exponent = (word & mask) >> 23\n",
    "    \n",
    "    mask = 0b00000000011111111111111111111111\n",
    "    mantissa = (word & mask) / 2**23\n",
    "    \n",
    "    #special numbers\n",
    "    if exponent == 255:\n",
    "        \n",
    "        if mantissa == 0:\n",
    "            \n",
    "            if sign == 0: fl = 'Inf'\n",
    "            else: fl = '-Inf'\n",
    "            \n",
    "        else: \n",
    "            fl = 'Nan'\n",
    "            \n",
    "    else:\n",
    "    \n",
    "        fl = (1 + mantissa) * 2**exponent\n",
    "\n",
    "        if sign == 1: fl *= -1\n",
    "        \n",
    "    return fl\n",
    "   \n",
    "x = 2\n",
    "x = floating(0b11111111000000000000000000000001)\n",
    "print(x)"
   ]
  },
  {
   "cell_type": "markdown",
   "metadata": {},
   "source": [
    "3\\. Write a program to determine the underflow and overflow limits (within a factor of 2) for python on your computer. \n",
    "\n",
    "**Tips**: define two variables inizialized to 1 and halve/double them enough time to exceed the under/over-flow limits  "
   ]
  },
  {
   "cell_type": "code",
   "execution_count": null,
   "metadata": {},
   "outputs": [],
   "source": [
    "#overflow: last ~9e307\n",
    "#underflow: last ~ 5e-324\n",
    "\n",
    "under = over = 1\n",
    "print(\"Iteration \\t underflow \\t overflow\")\n",
    "\n",
    "for i in range(1500):\n",
    "    under = under / 2\n",
    "    over = over *2\n",
    "    \n",
    "    print('%i: \\t %e \\t %e' %(i, under, over))"
   ]
  },
  {
   "cell_type": "markdown",
   "metadata": {},
   "source": [
    "4\\. Write a program to determine the machine precision\n",
    "\n",
    "**Tips**: define a new variable by adding a smaller and smaller value (proceeding similarly to prob. 2) to an original variable and check the point where the two are the same "
   ]
  },
  {
   "cell_type": "code",
   "execution_count": null,
   "metadata": {},
   "outputs": [],
   "source": [
    "x = 1.0\n",
    "y = 1.0\n",
    "for i in range(2000):\n",
    "    y /= 10\n",
    "    z = x + y\n",
    "    \n",
    "    print(\"x %.40f \\t x + y = %.40f => y = %e\" % (x,z,y))\n",
    "    # if z == x: print(y) -> nonsense bc two floats should never be compared \n",
    "    \n",
    "# ANSWER: e^-16, as expected"
   ]
  },
  {
   "cell_type": "markdown",
   "metadata": {},
   "source": [
    "5\\. Write a function that takes in input three parameters $a$, $b$ and $c$ and prints out the two solutions to the quadratic equation $ax^2+bx+c=0$ using the standard formula:\n",
    "$$\n",
    "x=\\frac{-b\\pm\\sqrt{b^2-4ac}}{2a}\n",
    "$$\n",
    "\n",
    "(a) use the program to compute the solution for $a=0.001$, $b=1000$ and $c=0.001$\n",
    "\n",
    "(b) re-express the standard solution formula by multiplying top and bottom by $-b\\mp\\sqrt{b^2-4ac}$ and again find the solution for $a=0.001$, $b=1000$ and $c=0.001$. How does it compare with what previously obtained? Why?\n",
    "\n",
    "(c) write a function that compute the roots of a quadratic equation accurately in all cases"
   ]
  },
  {
   "cell_type": "code",
   "execution_count": null,
   "metadata": {},
   "outputs": [],
   "source": [
    "#?????????\n",
    "import math\n",
    "def solve_quadeq(a, b, c):\n",
    "    x1 = (-b + math.sqrt(b**2 - 4*a*c)) * (-b - math.sqrt(b**2 - 4*a*c)) / ((2*a) * (-b - math.sqrt(b**2 - 4*a*c)))\n",
    "    x2 = (-b - math.sqrt(b**2 - 4*a*c)) * (-b + math.sqrt(b**2 - 4*a*c)) / ((2*a) * (-b + math.sqrt(b**2 - 4*a*c)))\n",
    "    \n",
    "    return x1, x2\n",
    "\n",
    "x1,x2 = solve_quadeq(0.001, 1000, 0.001)\n",
    "print(x1, x2)"
   ]
  },
  {
   "cell_type": "markdown",
   "metadata": {},
   "source": [
    "6\\. Write a program that implements the function $f(x)=x(x−1)$\n",
    "\n",
    "(a) Calculate the derivative of the function at the point $x = 1$ using the derivative definition:\n",
    "\n",
    "$$\n",
    "\\frac{{\\rm d}f}{{\\rm d}x} = \\lim_{\\delta\\to0} \\frac{f(x+\\delta)-f(x)}{\\delta}\n",
    "$$\n",
    "\n",
    "with $\\delta = 10^{−2}$. Calculate the true value of the same derivative analytically and compare with the answer your program gives. The two will not agree perfectly. Why not?\n",
    "\n",
    "(b) Repeat the calculation for $\\delta = 10^{−4}, 10^{−6}, 10^{−8}, 10^{−10}, 10^{−12}$ and $10^{−14}$. How does the accuracy scales with $\\delta$?"
   ]
  },
  {
   "cell_type": "code",
   "execution_count": 14,
   "metadata": {},
   "outputs": [
    {
     "name": "stdout",
     "output_type": "stream",
     "text": [
      "1.000000e-02 \t 1.01000000000000089706 \t 1.00000000000000000000\n",
      "1.000000e-04 \t 1.00009999999988985486 \t 1.00000000000000000000\n",
      "1.000000e-06 \t 1.00000099991773327979 \t 1.00000000000000000000\n",
      "1.000000e-08 \t 1.00000000392252874626 \t 1.00000000000000000000\n",
      "1.000000e-10 \t 1.00000008284037100736 \t 1.00000000000000000000\n",
      "1.000000e-12 \t 1.00008890058334132256 \t 1.00000000000000000000\n",
      "1.000000e-14 \t 0.99920072216265087839 \t 1.00000000000000000000\n"
     ]
    }
   ],
   "source": [
    "def f(x):\n",
    "    return x*(x - 1)\n",
    "\n",
    "delta = 0.0001 \n",
    "\n",
    "i = 1\n",
    "\n",
    "for exp in range(1,8):\n",
    "    delta = 10**(-2*exp)\n",
    "    num_derivative  = (f(i + delta) - f(i)) / delta\n",
    "    anal_derivative = 2*i - 1\n",
    "    \n",
    "    print('%e \\t %.20f \\t %.20f' %(delta, num_derivative, anal_derivative))"
   ]
  },
  {
   "cell_type": "markdown",
   "metadata": {},
   "source": [
    "7\\. Consider the integral of the semicircle of radius 1:\n",
    "$$\n",
    "I=\\int_{-1}^{1} \\sqrt(1-x^2) {\\rm d}x\n",
    "$$\n",
    "which it's known to be $I=\\frac{\\pi}{2}=1.57079632679...$.\n",
    "Alternatively we can use the Riemann definition of the integral:\n",
    "$$\n",
    "I=\\lim_{N\\to\\infty} \\sum_{k=1}^{N} h y_k \n",
    "$$\n",
    "\n",
    "with $h=2/N$ the width of each of the $N$ slices the domain is divided into and where\n",
    "$y_k$ is the value of the function at the $k-$th slice.\n",
    "\n",
    "(a) Write a programe to compute the integral with $N=100$. How does the result compares to the true value?\n",
    "\n",
    "(b) How much can $N$ be increased if the computation needs to be run in less than a second? What is the gain in running it for 1 minute? \n"
   ]
  },
  {
   "cell_type": "code",
   "execution_count": 17,
   "metadata": {},
   "outputs": [
    {
     "name": "stdout",
     "output_type": "stream",
     "text": [
      "1.570796 \t 1.570796\n",
      "--- 0.32881689071655273 seconds ---\n"
     ]
    }
   ],
   "source": [
    "import math \n",
    "import time\n",
    "\n",
    "def f(x):\n",
    "    return math.sqrt(1 - x**2)\n",
    "\n",
    "start_time = time.time()\n",
    "N = 1000000 # to 3 secs with one more 0\n",
    "\n",
    "h = 2 / N\n",
    "\n",
    "I = 0\n",
    "\n",
    "Range = [-1, 1]\n",
    "\n",
    "i = Range[0]\n",
    "while i < Range[1]:\n",
    "    \n",
    "    I += h * f(i)\n",
    "    i += h\n",
    "    \n",
    "print('%f \\t %f' %(I, math.pi / 2))\n",
    "print(\"--- %s seconds ---\" % (time.time() - start_time))"
   ]
  },
  {
   "cell_type": "code",
   "execution_count": null,
   "metadata": {},
   "outputs": [],
   "source": []
  }
 ],
 "metadata": {
  "kernelspec": {
   "display_name": "Python 3 (ipykernel)",
   "language": "python",
   "name": "python3"
  },
  "language_info": {
   "codemirror_mode": {
    "name": "ipython",
    "version": 3
   },
   "file_extension": ".py",
   "mimetype": "text/x-python",
   "name": "python",
   "nbconvert_exporter": "python",
   "pygments_lexer": "ipython3",
   "version": "3.9.5"
  }
 },
 "nbformat": 4,
 "nbformat_minor": 2
}

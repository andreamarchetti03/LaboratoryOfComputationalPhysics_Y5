{
 "cells": [
  {
   "cell_type": "markdown",
   "metadata": {},
   "source": [
    "1. The MickeyMouse problem\n",
    "\n",
    "a) Write a program that prints the numbers from 1 to 100. But for multiples of 3 print `Mickey` instead of the corresponding number and for the multiples of 5 print `Mouse`. For numbers which are multiples of both three and five print `MickeyMouse`\n",
    "\n",
    "b) Put the result in a tuple and substitute `Mickey` with `Donald` and `Mouse` with `Duck`"
   ]
  },
  {
   "cell_type": "code",
   "execution_count": 24,
   "metadata": {},
   "outputs": [
    {
     "name": "stdout",
     "output_type": "stream",
     "text": [
      "1\n",
      "2\n",
      "Mickey\n",
      "4\n",
      "Mouse\n",
      "Mickey\n",
      "7\n",
      "8\n",
      "Mickey\n",
      "Mouse\n",
      "11\n",
      "Mickey\n",
      "13\n",
      "14\n",
      "MickeyMouse\n",
      "16\n",
      "17\n",
      "Mickey\n",
      "19\n",
      "Mouse\n",
      "Mickey\n",
      "22\n",
      "23\n",
      "Mickey\n",
      "Mouse\n",
      "26\n",
      "Mickey\n",
      "28\n",
      "29\n",
      "MickeyMouse\n",
      "31\n",
      "32\n",
      "Mickey\n",
      "34\n",
      "Mouse\n",
      "Mickey\n",
      "37\n",
      "38\n",
      "Mickey\n",
      "Mouse\n",
      "41\n",
      "Mickey\n",
      "43\n",
      "44\n",
      "MickeyMouse\n",
      "46\n",
      "47\n",
      "Mickey\n",
      "49\n",
      "Mouse\n",
      "Mickey\n",
      "52\n",
      "53\n",
      "Mickey\n",
      "Mouse\n",
      "56\n",
      "Mickey\n",
      "58\n",
      "59\n",
      "MickeyMouse\n",
      "61\n",
      "62\n",
      "Mickey\n",
      "64\n",
      "Mouse\n",
      "Mickey\n",
      "67\n",
      "68\n",
      "Mickey\n",
      "Mouse\n",
      "71\n",
      "Mickey\n",
      "73\n",
      "74\n",
      "MickeyMouse\n",
      "76\n",
      "77\n",
      "Mickey\n",
      "79\n",
      "Mouse\n",
      "Mickey\n",
      "82\n",
      "83\n",
      "Mickey\n",
      "Mouse\n",
      "86\n",
      "Mickey\n",
      "88\n",
      "89\n",
      "MickeyMouse\n",
      "91\n",
      "92\n",
      "Mickey\n",
      "94\n",
      "Mouse\n",
      "Mickey\n",
      "97\n",
      "98\n",
      "Mickey\n",
      "Mouse\n"
     ]
    }
   ],
   "source": [
    "for i in range(1,101):\n",
    "    if((i % 3 == 0)&(i % 5 == 0)): print(\"MickeyMouse\")\n",
    "    elif(i % 3 == 0): print(\"Mickey\")\n",
    "    elif(i % 5 == 0): print(\"Mouse\")\n",
    "    else: print(i)"
   ]
  },
  {
   "cell_type": "code",
   "execution_count": 13,
   "metadata": {},
   "outputs": [
    {
     "name": "stdout",
     "output_type": "stream",
     "text": [
      "(1, 2, 'Donald', 4, 'Duck', 'Donald', 7, 8, 'Donald', 'Duck', 11, 'Donald', 13, 14, 'DonaldDuck', 16, 17, 'Donald', 19, 'Duck', 'Donald', 22, 23, 'Donald', 'Duck', 26, 'Donald', 28, 29, 'DonaldDuck', 31, 32, 'Donald', 34, 'Duck', 'Donald', 37, 38, 'Donald', 'Duck', 41, 'Donald', 43, 44, 'DonaldDuck', 46, 47, 'Donald', 49, 'Duck', 'Donald', 52, 53, 'Donald', 'Duck', 56, 'Donald', 58, 59, 'DonaldDuck', 61, 62, 'Donald', 64, 'Duck', 'Donald', 67, 68, 'Donald', 'Duck', 71, 'Donald', 73, 74, 'DonaldDuck', 76, 77, 'Donald', 79, 'Duck', 'Donald', 82, 83, 'Donald', 'Duck', 86, 'Donald', 88, 89, 'DonaldDuck', 91, 92, 'Donald', 94, 'Duck', 'Donald', 97, 98, 'Donald')\n"
     ]
    }
   ],
   "source": [
    "a = ()\n",
    "\n",
    "for i in range(1,100):\n",
    "    if((i % 3 == 0)&(i % 5 == 0)): a = a + (\"DonaldDuck\",)\n",
    "    elif(i % 3 == 0): a = a + (\"Donald\",)\n",
    "    elif(i % 5 == 0): a = a + (\"Duck\",)\n",
    "    else: a = a + (i,)\n",
    "        \n",
    "print(a)"
   ]
  },
  {
   "cell_type": "markdown",
   "metadata": {},
   "source": [
    "2\\. The swap function\n",
    "\n",
    "Write a function that swap the values of two input variables x and y (whatever the type). Try to do that also without a temporary variable"
   ]
  },
  {
   "cell_type": "code",
   "execution_count": 142,
   "metadata": {},
   "outputs": [
    {
     "name": "stdout",
     "output_type": "stream",
     "text": [
      "Insert first number: 2\n",
      "Insert second number: 3\n",
      "3 2\n",
      "2 3\n"
     ]
    }
   ],
   "source": [
    "def swap(x,y):\n",
    "    tmp = x\n",
    "    x = y\n",
    "    y = tmp\n",
    "    return x,y\n",
    "\n",
    "def swap2(x,y):\n",
    "    return y,x\n",
    "\n",
    "x = input(\"Insert first number: \")\n",
    "y = input(\"Insert second number: \")\n",
    "\n",
    "x,y = swap(x,y)\n",
    "print(x,y)\n",
    "\n",
    "x,y = swap2(x,y)\n",
    "print(x,y)"
   ]
  },
  {
   "cell_type": "markdown",
   "metadata": {},
   "source": [
    "3\\. Computing the distance\n",
    "\n",
    "Write a function that calculates and returns the euclidean distance between two points *u* and *v*, where *u* and *v* are both 2-tuples *(x,y)*. For example, if *u=(3,0)* and *v=(0,4)*, the function should return 5"
   ]
  },
  {
   "cell_type": "code",
   "execution_count": 27,
   "metadata": {},
   "outputs": [
    {
     "name": "stdout",
     "output_type": "stream",
     "text": [
      "5.0\n"
     ]
    }
   ],
   "source": [
    "import math\n",
    "\n",
    "def distance(u,v):\n",
    "    return math.sqrt((u[0]-v[0])**2 + (u[1]-v[1])**2)\n",
    "\n",
    "x = (3,0)\n",
    "y = (0,4)\n",
    "\n",
    "d = distance(x,y)\n",
    "print(d)"
   ]
  },
  {
   "cell_type": "markdown",
   "metadata": {},
   "source": [
    "4\\. Counting letters\n",
    "\n",
    "Write a program to calculate the number of times each character occurs in a given string *s*. Ignore differneces in capitalization"
   ]
  },
  {
   "cell_type": "code",
   "execution_count": 141,
   "metadata": {},
   "outputs": [
    {
     "name": "stdout",
     "output_type": "stream",
     "text": [
      "\u0000 0\n",
      "\u0001 0\n",
      "\u0002 0\n",
      "\u0003 0\n",
      "\u0004 0\n",
      "\u0005 0\n",
      "\u0006 0\n",
      "\u0007 0\n",
      "\b 0\n",
      "\t 0\n",
      "\n",
      " 0\n",
      "\u000b",
      " 0\n",
      "\f",
      " 0\n",
      "\r",
      " 0\n",
      "\u000e 0\n",
      "\u000f 0\n",
      "\u0010 0\n",
      "\u0011 0\n",
      "\u0012 0\n",
      "\u0013 0\n",
      "\u0014 0\n",
      "\u0015 0\n",
      "\u0016 0\n",
      "\u0017 0\n",
      "\u0018 0\n",
      "\u0019 0\n",
      "\u001a 0\n",
      "\u001b 0\n",
      "\u001c",
      " 0\n",
      "\u001d",
      " 0\n",
      "\u001e",
      " 0\n",
      "\u001f 0\n",
      "  41\n",
      "! 0\n",
      "\" 0\n",
      "# 0\n",
      "$ 0\n",
      "% 0\n",
      "& 0\n",
      "' 0\n",
      "( 0\n",
      ") 0\n",
      "* 0\n",
      "+ 0\n",
      ", 0\n",
      "- 0\n",
      ". 2\n",
      "/ 0\n",
      "0 2\n",
      "1 2\n",
      "2 0\n",
      "3 0\n",
      "4 0\n",
      "5 0\n",
      "6 0\n",
      "7 0\n",
      "8 0\n",
      "9 0\n",
      ": 0\n",
      "; 0\n",
      "< 0\n",
      "= 0\n",
      "> 0\n",
      "? 0\n",
      "@ 0\n",
      "A 0\n",
      "B 0\n",
      "C 0\n",
      "D 0\n",
      "E 0\n",
      "F 0\n",
      "G 0\n",
      "H 0\n",
      "I 0\n",
      "J 0\n",
      "K 0\n",
      "L 0\n",
      "M 0\n",
      "N 0\n",
      "O 0\n",
      "P 0\n",
      "Q 0\n",
      "R 0\n",
      "S 0\n",
      "T 0\n",
      "U 0\n",
      "V 0\n",
      "W 0\n",
      "X 0\n",
      "Y 0\n",
      "Z 0\n",
      "[ 0\n",
      "\\ 0\n",
      "] 0\n",
      "^ 0\n",
      "_ 0\n",
      "` 0\n",
      "a 7\n",
      "b 5\n",
      "c 3\n",
      "d 3\n",
      "e 22\n",
      "f 10\n",
      "g 1\n",
      "h 9\n",
      "i 14\n",
      "j 0\n",
      "k 2\n",
      "l 6\n",
      "m 12\n",
      "n 10\n",
      "o 13\n",
      "p 8\n",
      "q 0\n",
      "r 17\n",
      "s 9\n",
      "t 19\n",
      "u 9\n",
      "v 2\n",
      "w 2\n",
      "x 0\n",
      "y 2\n",
      "z 0\n",
      "{ 0\n",
      "| 0\n",
      "} 0\n",
      "~ 0\n",
      " 0\n"
     ]
    }
   ],
   "source": [
    "s=\"Write a program that prints the numbers from 1 to 100. \\\n",
    "But for multiples of three print Mickey instead of the number and for the multiples of five print Mouse. \\\n",
    "For numbers which are multiples of both three and five print MickeyMouse\"\n",
    "\n",
    "# de-capitalise\n",
    "st = s.lower()\n",
    "\n",
    "# ASCII ID numbers go from 0 to 127. Count how many times each character occurs\n",
    "for i in range(128): print(chr(i), st.count(chr(i)))\n",
    "\n",
    "\n",
    "\n"
   ]
  },
  {
   "cell_type": "markdown",
   "metadata": {},
   "source": [
    "5\\. Isolating the unique\n",
    "\n",
    "Write a function that determines and count the unique numbers in the list *l*"
   ]
  },
  {
   "cell_type": "code",
   "execution_count": 117,
   "metadata": {},
   "outputs": [
    {
     "name": "stdout",
     "output_type": "stream",
     "text": [
      "[1, 5, 8, 9, 10, 16, 18, 19, 24, 30, 33, 37, 39, 41, 47, 53, 54, 55, 57, 58, 64, 72, 74, 75, 79, 81, 82, 86, 87, 88, 90, 92, 94, 95, 96, 98, 99]\n"
     ]
    }
   ],
   "source": [
    "def uniques(x):\n",
    "    \n",
    "    x.sort()\n",
    "    \n",
    "    already = x[0]\n",
    "    \n",
    "    unique = []\n",
    "    \n",
    "    for i in range(len(x)):\n",
    "        \n",
    "        # In the sorted list, there are three possibilities: either an element is equal to the following one, \n",
    "        # or it is not but is equal to some previous one(s), or it is not and is not equal to the previous one\n",
    "        # (it is the first with that value). If we check the numbers in pairs and memorise in 'already' whether\n",
    "        # they are equal, we enter the \"sequence\" of numbers with that value. The end of the sequence is found\n",
    "        # at the first element in the loop that is different from the next one but equal to the memorised one.\n",
    "        \n",
    "        # If we are not on the first or last element, check if the current element is equal to the following one \n",
    "        # or to the already saved one. If yes, save it (a bit redundant in case it had already appeared). If no,\n",
    "        # add it to the list.\n",
    "        \n",
    "        # If we are on the first element we cannot check 'already', because with the implemented initialisation\n",
    "        # it will always give True. If we are on the last element, on the other hand, we cannot check if it is\n",
    "        # equal to the following one. Hence, we use the trick to first check if we are on the last element in series\n",
    "        # with the check on the following element, so that the second statement is leaped in case the first one is\n",
    "        # already false.\n",
    "        \n",
    "        if ((i+1 != len(x)) and (x[i] == x[i+1])) or ((already == x[i]) and (i != 0)): already = x[i]\n",
    "        else: unique.append(x[i])\n",
    "            \n",
    "    return unique\n",
    "\n",
    "\n",
    "# test\n",
    "l = [36, 45, 58, 3, 74, 96, 64, 45, 31, 10, 24, 19, 33, 86, 99, 18, 63, 70, 85,\n",
    " 85, 63, 47, 56, 42, 70, 84, 88, 55, 20, 54, 8, 56, 51, 79, 81, 57, 37, 91,\n",
    " 1, 84, 84, 36, 66, 9, 89, 50, 42, 91, 50, 95, 90, 98, 39, 16, 82, 31, 92, 41,\n",
    " 45, 30, 66, 70, 34, 85, 94, 5, 3, 36, 72, 91, 84, 34, 87, 75, 53, 51, 20, 89, 51, 20]\n",
    "\n",
    "print(uniques(l))"
   ]
  },
  {
   "cell_type": "markdown",
   "metadata": {},
   "source": [
    "6\\. Combination of functions\n",
    "\n",
    "Write two functions - one that returns the square of a number, and one that returns the cube. Now write a third function that returns the number raised to the 6th power using the two previous functions."
   ]
  },
  {
   "cell_type": "code",
   "execution_count": 46,
   "metadata": {},
   "outputs": [
    {
     "name": "stdout",
     "output_type": "stream",
     "text": [
      "64\n"
     ]
    }
   ],
   "source": [
    "def square(x):\n",
    "    return x**2\n",
    "\n",
    "def cube(x):\n",
    "    return x**3\n",
    "\n",
    "def sixpow(x):\n",
    "    return cube(square(x))\n",
    "\n",
    "print(sixpow(2))\n"
   ]
  },
  {
   "cell_type": "markdown",
   "metadata": {},
   "source": [
    "7\\. Cubes\n",
    "\n",
    "Create a list of the cubes of x for x in *[0, 10]* using:\n",
    "\n",
    "a) a for loop\n",
    "\n",
    "b) a list comprehension"
   ]
  },
  {
   "cell_type": "code",
   "execution_count": 80,
   "metadata": {},
   "outputs": [
    {
     "name": "stdout",
     "output_type": "stream",
     "text": [
      "[0, 1, 8, 27, 64, 125, 216, 343, 512, 729]\n"
     ]
    }
   ],
   "source": [
    "#(a)\n",
    "x = []\n",
    "for i in range(10): x.append(i**3)\n",
    "\n",
    "#(b)\n",
    "x = [i**3 for i in range(10)]\n",
    "\n",
    "print(x)"
   ]
  },
  {
   "cell_type": "markdown",
   "metadata": {},
   "source": [
    "8\\. Nested list comprehension\n",
    "\n",
    "A Pythagorean triple is an integer solution to the Pythagorean theorem $a^2+b^2=c^2$. The first Pythagorean triple is (3,4,5). Find and put in a tuple all unique Pythagorean triples for the positive integers a, b and c less than 100."
   ]
  },
  {
   "cell_type": "code",
   "execution_count": 125,
   "metadata": {},
   "outputs": [
    {
     "name": "stdout",
     "output_type": "stream",
     "text": [
      "(1, 4, 9, 16, 25, 36, 49, 64, 81, 100, 121, 144, 169, 196, 225, 256, 289, 324, 361, 400, 441, 484, 529, 576, 625, 676, 729, 784, 841, 900, 961)\n",
      "[(3.0, 4.0, 5.0), (6.0, 8.0, 10.0), (5.0, 12.0, 13.0), (9.0, 12.0, 15.0), (8.0, 15.0, 17.0), (12.0, 16.0, 20.0), (7.0, 24.0, 25.0), (15.0, 20.0, 25.0), (10.0, 24.0, 26.0), (20.0, 21.0, 29.0), (18.0, 24.0, 30.0)]\n"
     ]
    }
   ],
   "source": [
    "import math\n",
    "\n",
    "#select all perfect squares\n",
    "squares = ()\n",
    "for i in range(1,1000): \n",
    "    if math.sqrt(i).is_integer() == True: squares = squares + (i,)\n",
    "\n",
    "pyth = []\n",
    "for i in range(2, len(squares)): #start from the third element\n",
    "    \n",
    "    for j in range(i):           #check until element previous to the current one\n",
    "        \n",
    "        tmp = squares[i] - squares[j]  #evaluate the difference between 'c' and 'a'\n",
    "        \n",
    "        for k in range(j+1,i):   #check on all the elements greater than 'a' and less than 'c'\n",
    "            \n",
    "            if squares[k] == tmp: pyth.append((math.sqrt(squares[j]),math.sqrt(squares[k]),math.sqrt(squares[i])))\n",
    "                \n",
    "print(pyth)       "
   ]
  },
  {
   "cell_type": "markdown",
   "metadata": {},
   "source": [
    "9\\. Normalization\n",
    "\n",
    "Write a function that takes a tuple of numbers and returns it with the entries normalized to one"
   ]
  },
  {
   "cell_type": "code",
   "execution_count": 94,
   "metadata": {},
   "outputs": [
    {
     "name": "stdout",
     "output_type": "stream",
     "text": [
      "(0.1, 0.2, 0.3, 0.4)\n"
     ]
    }
   ],
   "source": [
    "def normalise(t):\n",
    "    \n",
    "    sum = 0\n",
    "    s = ()\n",
    "    \n",
    "    #calculate the sum\n",
    "    for i in range(len(t)): sum = sum + t[i]\n",
    "        \n",
    "    #divide every entry by the sum    \n",
    "    for i in range(len(t)): s = s + (t[i]/sum,)\n",
    "        \n",
    "    return s\n",
    "\n",
    "\n",
    "#test\n",
    "t = (1,2,3,4)\n",
    "\n",
    "print(normalise(t))\n"
   ]
  },
  {
   "cell_type": "code",
   "execution_count": null,
   "metadata": {},
   "outputs": [],
   "source": []
  }
 ],
 "metadata": {
  "kernelspec": {
   "display_name": "Python 3 (ipykernel)",
   "language": "python",
   "name": "python3"
  },
  "language_info": {
   "codemirror_mode": {
    "name": "ipython",
    "version": 3
   },
   "file_extension": ".py",
   "mimetype": "text/x-python",
   "name": "python",
   "nbconvert_exporter": "python",
   "pygments_lexer": "ipython3",
   "version": "3.9.5"
  }
 },
 "nbformat": 4,
 "nbformat_minor": 2
}
